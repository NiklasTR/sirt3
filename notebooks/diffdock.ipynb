{
  "cells": [
    {
      "cell_type": "markdown",
      "metadata": {
        "id": "view-in-github",
        "colab_type": "text"
      },
      "source": [
        "<a href=\"https://colab.research.google.com/github/NiklasTR/sirt3/blob/main/notebooks/diffdock.ipynb\" target=\"_parent\"><img src=\"https://colab.research.google.com/assets/colab-badge.svg\" alt=\"Open In Colab\"/></a>"
      ]
    },
    {
      "cell_type": "markdown",
      "metadata": {
        "id": "ZAH5NYgIWIlI"
      },
      "source": [
        "# DiffDock\n",
        "Dock a PDB files and a SMILES with [DiffDock](https://github.com/gcorso/DiffDock).\n",
        "\n",
        "Select Runtime / Run all to run an example PDB file and SMILES.\n",
        "\n",
        "v2 improvements:\n",
        "- works on proteins >1000 aas (with flag added to extract.py)\n",
        "- works on standard GPU (by reducing batch size from 10 to 6)\n",
        "- works with AlphaFold ids (AF-...) as well as PDB ids\n",
        "- works with comma-delimited PDB_ids and/or SMILES\n",
        "- runs smina to generate affinities (as DiffDock posed, or with smina minimization)\n",
        "- shows results in a py3DMol view\n",
        "\n",
        "colab by [@btnaughton](https://twitter.com/btnaughton)"
      ]
    },
    {
      "cell_type": "code",
      "execution_count": null,
      "metadata": {
        "id": "M4xQfLgqWQsZ"
      },
      "outputs": [],
      "source": [
        "#@title PDB + SMILES input\n",
        "\n",
        "PDB_id = '6ej2' #@param {type:\"string\"}\n",
        "SMILES_or_pubchem_id = 'CCCCNC(=O)[C@H](C)C[C@H](O)[C@@H]2C[C@H](C)CCCCCN(CC)C(=O)c1cc(cc(c1)C(=O)N2)OCC' #@param {type:\"string\"}\n",
        "\n",
        "#@markdown Download a tar file containing all results?\n",
        "download_results = True #@param {type:\"boolean\"}"
      ]
    },
    {
      "cell_type": "code",
      "execution_count": null,
      "metadata": {
        "id": "2Ssuid52VT-i"
      },
      "outputs": [],
      "source": [
        "import os\n",
        "import requests\n",
        "import time\n",
        "from random import random\n",
        "\n",
        "def download_pdb_file(pdb_id: str) -> str:\n",
        "    \"\"\"Download pdb file as a string from rcsb.org\"\"\"\n",
        "    PDB_DIR =\"/tmp/pdb/\"\n",
        "    os.makedirs(PDB_DIR, exist_ok=True)\n",
        "\n",
        "    # url or pdb_id\n",
        "    if pdb_id.startswith('http'):\n",
        "        url = pdb_id\n",
        "        filename = url.split('/')[-1]\n",
        "    elif pdb_id.endswith(\".pdb\"):\n",
        "        return pdb_id\n",
        "    else:\n",
        "        if pdb_id.startswith(\"AF\"):\n",
        "            url = f\"https://alphafold.ebi.ac.uk/files/{pdb_id}-model_v3.pdb\"\n",
        "        else:\n",
        "            url = f\"http://files.rcsb.org/view/{pdb_id}.pdb\"\n",
        "        filename = f'{pdb_id}.pdb'\n",
        "\n",
        "    cache_path = os.path.join(PDB_DIR, filename)\n",
        "    if os.path.exists(cache_path):\n",
        "        return cache_path\n",
        "\n",
        "    pdb_req = requests.get(url)\n",
        "    pdb_req.raise_for_status()\n",
        "    open(cache_path, 'w').write(pdb_req.text)\n",
        "    return cache_path\n",
        "\n",
        "def download_smiles_str(pubchem_id: str, retries:int = 2) -> str:\n",
        "    \"\"\"Given a pubchem id, get a smiles string\"\"\"\n",
        "    while True:\n",
        "        req = requests.get(f\"https://pubchem.ncbi.nlm.nih.gov/rest/pug/compound/CID/{pubchem_id}/property/CanonicalSMILES/CSV\")\n",
        "        smiles_url_csv = req.text if req.status_code == 200 else None\n",
        "        if smiles_url_csv is not None:\n",
        "            break\n",
        "        if retries == 0:\n",
        "            return None\n",
        "        time.sleep(1+random())\n",
        "        retries -= 1\n",
        "\n",
        "    return smiles_url_csv.splitlines()[1].split(',')[1].strip('\"').strip(\"'\") if smiles_url_csv is not None else None"
      ]
    },
    {
      "cell_type": "code",
      "execution_count": null,
      "metadata": {
        "id": "BYTBennzXxb1"
      },
      "outputs": [],
      "source": [
        "if not PDB_id or not SMILES_or_pubchem_id:\n",
        "    PDB_id = \"6agt\"\n",
        "    SMILES_or_pubchem_id = \"COc(cc1)ccc1C#N\"\n",
        "    print(f\"No input supplied. Using example data: {PDB_id} and {SMILES_or_pubchem_id}\")\n",
        "\n",
        "# to run many PDB+smiles at once, fill in a list of PDB_files and smiles here...\n",
        "pdb_files = [download_pdb_file(_PDB_id) for _PDB_id in PDB_id.split(\",\")]\n",
        "smiless = [download_smiles_str(_SMILES_or_pubchem_id) if str(_SMILES_or_pubchem_id).isnumeric() else _SMILES_or_pubchem_id\n",
        "           for _SMILES_or_pubchem_id in SMILES_or_pubchem_id.split(',') ]\n",
        "\n",
        "with open(\"/tmp/input_protein_ligand.csv\", 'w') as out:\n",
        "    out.write(\"protein_path,ligand\\n\")\n",
        "    for pdb_file in pdb_files:\n",
        "        for smiles in smiless:\n",
        "            out.write(f\"{pdb_file},{smiles}\\n\")"
      ]
    },
    {
      "cell_type": "markdown",
      "metadata": {
        "id": "pcEcmE0fu-BE"
      },
      "source": [
        "## Importing protein-ligand pairs for affinity ranking"
      ]
    },
    {
      "cell_type": "code",
      "execution_count": null,
      "metadata": {
        "colab": {
          "base_uri": "https://localhost:8080/"
        },
        "id": "cMV4qfvAR2lx",
        "outputId": "be770109-2b25-40b7-ff3f-7ac552f53ee4"
      },
      "outputs": [
        {
          "name": "stdout",
          "output_type": "stream",
          "text": [
            "/\n",
            "Cloning into 'sirt3'...\n",
            "remote: Enumerating objects: 6981, done.\u001b[K\n",
            "remote: Counting objects: 100% (6645/6645), done.\u001b[K\n",
            "remote: Compressing objects: 100% (483/483), done.\u001b[K\n",
            "remote: Total 6981 (delta 6160), reused 6638 (delta 6157), pack-reused 336\u001b[K\n",
            "Receiving objects: 100% (6981/6981), 60.47 MiB | 34.94 MiB/s, done.\n",
            "Resolving deltas: 100% (6293/6293), done.\n",
            "/sirt3\n",
            "Already up to date.\n",
            "Submodule 'lib/diffdock' (https://github.com/labdao-apps/diffdock.git) registered for path 'lib/diffdock'\n",
            "Submodule 'lib/equibind' (https://github.com/labdao-apps/equibind.git) registered for path 'lib/equibind'\n",
            "Cloning into '/sirt3/lib/diffdock'...\n",
            "Cloning into '/sirt3/lib/equibind'...\n",
            "Submodule path 'lib/diffdock': checked out '04c40637ccd5673ad886ce81ae9b97ab46737345'\n",
            "Submodule path 'lib/equibind': checked out '3df09f851b575edda90bbf655036605f82851bca'\n",
            "/sirt3/lib/diffdock\n",
            "Submodule 'esm' (https://github.com/facebookresearch/esm.git) registered for path 'esm'\n",
            "Cloning into '/sirt3/lib/diffdock/esm'...\n",
            "Submodule path 'esm': checked out 'c905c57c3ca0c4b4fba1cec98b073c018d7917b3'\n",
            "/sirt3/lib/diffdock\n"
          ]
        }
      ],
      "source": [
        "%cd /\n",
        "!git clone https://github.com/labdao/sirt3.git\n",
        "%cd /sirt3\n",
        "!git pull\n",
        "!git submodule init\n",
        "!git submodule update\n",
        "%cd /sirt3/lib/diffdock\n",
        "!git submodule init\n",
        "!git submodule update\n",
        "!pwd"
      ]
    },
    {
      "cell_type": "code",
      "execution_count": null,
      "metadata": {
        "colab": {
          "base_uri": "https://localhost:8080/",
          "height": 424
        },
        "id": "n2jzaD-tvUpp",
        "outputId": "936c3b6f-4960-426c-b424-4e8d5810652a"
      },
      "outputs": [
        {
          "data": {
            "text/html": [
              "\n",
              "  <div id=\"df-8a66472e-ea7b-4d84-a925-f06a02fdd1c7\">\n",
              "    <div class=\"colab-df-container\">\n",
              "      <div>\n",
              "<style scoped>\n",
              "    .dataframe tbody tr th:only-of-type {\n",
              "        vertical-align: middle;\n",
              "    }\n",
              "\n",
              "    .dataframe tbody tr th {\n",
              "        vertical-align: top;\n",
              "    }\n",
              "\n",
              "    .dataframe thead th {\n",
              "        text-align: right;\n",
              "    }\n",
              "</style>\n",
              "<table border=\"1\" class=\"dataframe\">\n",
              "  <thead>\n",
              "    <tr style=\"text-align: right;\">\n",
              "      <th></th>\n",
              "      <th>protein_path</th>\n",
              "      <th>ligand</th>\n",
              "    </tr>\n",
              "  </thead>\n",
              "  <tbody>\n",
              "    <tr>\n",
              "      <th>0</th>\n",
              "      <td>/tmp/pdb/6ej2.pdb</td>\n",
              "      <td>CCCCNC(=O)[C@H](C)C[C@H](O)[C@@H]2C[C@H](C)CCC...</td>\n",
              "    </tr>\n",
              "    <tr>\n",
              "      <th>1</th>\n",
              "      <td>/tmp/pdb/6ej2.pdb</td>\n",
              "      <td>C[C@@H]1CCCCCCOCC(=O)N(C)[C@@H](C)C(=O)N[C@@H]...</td>\n",
              "    </tr>\n",
              "    <tr>\n",
              "      <th>2</th>\n",
              "      <td>/tmp/pdb/6ej2.pdb</td>\n",
              "      <td>CCCC2=CC(CNC[C@@H](O)[C@@H]1C[C@H](C)CCCCCCOCC...</td>\n",
              "    </tr>\n",
              "    <tr>\n",
              "      <th>3</th>\n",
              "      <td>/tmp/pdb/6ej2.pdb</td>\n",
              "      <td>CCN2CCCCC[C@@H](C)C[C@H](NC(=O)c1cc(ccc1)C2=O)...</td>\n",
              "    </tr>\n",
              "    <tr>\n",
              "      <th>4</th>\n",
              "      <td>/tmp/pdb/6ej2.pdb</td>\n",
              "      <td>CC(C)c5cc(CNC[C@@H](O)[C@@H]4C[C@H](C)CCCCCN([...</td>\n",
              "    </tr>\n",
              "    <tr>\n",
              "      <th>...</th>\n",
              "      <td>...</td>\n",
              "      <td>...</td>\n",
              "    </tr>\n",
              "    <tr>\n",
              "      <th>149</th>\n",
              "      <td>/tmp/pdb/6ej2.pdb</td>\n",
              "      <td>CCCCNC(=O)[C@H](C)C[C@H](O)[C@@H]2Cc3cc(CCCCCN...</td>\n",
              "    </tr>\n",
              "    <tr>\n",
              "      <th>150</th>\n",
              "      <td>/tmp/pdb/6ej2.pdb</td>\n",
              "      <td>CCCCNC(=O)[C@H](C)C[C@H](O)[C@@H]2Cc3cccc(CCCC...</td>\n",
              "    </tr>\n",
              "    <tr>\n",
              "      <th>151</th>\n",
              "      <td>/tmp/pdb/6ej2.pdb</td>\n",
              "      <td>CCCCNC(=O)[C@H](C)C[C@H](O)[C@@H]2Cc1cccc(c1)O...</td>\n",
              "    </tr>\n",
              "    <tr>\n",
              "      <th>152</th>\n",
              "      <td>/tmp/pdb/6ej2.pdb</td>\n",
              "      <td>CCCCNC(=O)[C@H](C)C[C@H](O)[C@@H]2Cc3cc(Cc1ccc...</td>\n",
              "    </tr>\n",
              "    <tr>\n",
              "      <th>153</th>\n",
              "      <td>/tmp/pdb/6ej2.pdb</td>\n",
              "      <td>CCCCNC(=O)[C@H](C)C[C@H](O)[C@@H]2Cc3ccc(O)c(C...</td>\n",
              "    </tr>\n",
              "  </tbody>\n",
              "</table>\n",
              "<p>154 rows × 2 columns</p>\n",
              "</div>\n",
              "      <button class=\"colab-df-convert\" onclick=\"convertToInteractive('df-8a66472e-ea7b-4d84-a925-f06a02fdd1c7')\"\n",
              "              title=\"Convert this dataframe to an interactive table.\"\n",
              "              style=\"display:none;\">\n",
              "        \n",
              "  <svg xmlns=\"http://www.w3.org/2000/svg\" height=\"24px\"viewBox=\"0 0 24 24\"\n",
              "       width=\"24px\">\n",
              "    <path d=\"M0 0h24v24H0V0z\" fill=\"none\"/>\n",
              "    <path d=\"M18.56 5.44l.94 2.06.94-2.06 2.06-.94-2.06-.94-.94-2.06-.94 2.06-2.06.94zm-11 1L8.5 8.5l.94-2.06 2.06-.94-2.06-.94L8.5 2.5l-.94 2.06-2.06.94zm10 10l.94 2.06.94-2.06 2.06-.94-2.06-.94-.94-2.06-.94 2.06-2.06.94z\"/><path d=\"M17.41 7.96l-1.37-1.37c-.4-.4-.92-.59-1.43-.59-.52 0-1.04.2-1.43.59L10.3 9.45l-7.72 7.72c-.78.78-.78 2.05 0 2.83L4 21.41c.39.39.9.59 1.41.59.51 0 1.02-.2 1.41-.59l7.78-7.78 2.81-2.81c.8-.78.8-2.07 0-2.86zM5.41 20L4 18.59l7.72-7.72 1.47 1.35L5.41 20z\"/>\n",
              "  </svg>\n",
              "      </button>\n",
              "      \n",
              "  <style>\n",
              "    .colab-df-container {\n",
              "      display:flex;\n",
              "      flex-wrap:wrap;\n",
              "      gap: 12px;\n",
              "    }\n",
              "\n",
              "    .colab-df-convert {\n",
              "      background-color: #E8F0FE;\n",
              "      border: none;\n",
              "      border-radius: 50%;\n",
              "      cursor: pointer;\n",
              "      display: none;\n",
              "      fill: #1967D2;\n",
              "      height: 32px;\n",
              "      padding: 0 0 0 0;\n",
              "      width: 32px;\n",
              "    }\n",
              "\n",
              "    .colab-df-convert:hover {\n",
              "      background-color: #E2EBFA;\n",
              "      box-shadow: 0px 1px 2px rgba(60, 64, 67, 0.3), 0px 1px 3px 1px rgba(60, 64, 67, 0.15);\n",
              "      fill: #174EA6;\n",
              "    }\n",
              "\n",
              "    [theme=dark] .colab-df-convert {\n",
              "      background-color: #3B4455;\n",
              "      fill: #D2E3FC;\n",
              "    }\n",
              "\n",
              "    [theme=dark] .colab-df-convert:hover {\n",
              "      background-color: #434B5C;\n",
              "      box-shadow: 0px 1px 3px 1px rgba(0, 0, 0, 0.15);\n",
              "      filter: drop-shadow(0px 1px 2px rgba(0, 0, 0, 0.3));\n",
              "      fill: #FFFFFF;\n",
              "    }\n",
              "  </style>\n",
              "\n",
              "      <script>\n",
              "        const buttonEl =\n",
              "          document.querySelector('#df-8a66472e-ea7b-4d84-a925-f06a02fdd1c7 button.colab-df-convert');\n",
              "        buttonEl.style.display =\n",
              "          google.colab.kernel.accessAllowed ? 'block' : 'none';\n",
              "\n",
              "        async function convertToInteractive(key) {\n",
              "          const element = document.querySelector('#df-8a66472e-ea7b-4d84-a925-f06a02fdd1c7');\n",
              "          const dataTable =\n",
              "            await google.colab.kernel.invokeFunction('convertToInteractive',\n",
              "                                                     [key], {});\n",
              "          if (!dataTable) return;\n",
              "\n",
              "          const docLinkHtml = 'Like what you see? Visit the ' +\n",
              "            '<a target=\"_blank\" href=https://colab.research.google.com/notebooks/data_table.ipynb>data table notebook</a>'\n",
              "            + ' to learn more about interactive tables.';\n",
              "          element.innerHTML = '';\n",
              "          dataTable['output_type'] = 'display_data';\n",
              "          await google.colab.output.renderOutput(dataTable, element);\n",
              "          const docLink = document.createElement('div');\n",
              "          docLink.innerHTML = docLinkHtml;\n",
              "          element.appendChild(docLink);\n",
              "        }\n",
              "      </script>\n",
              "    </div>\n",
              "  </div>\n",
              "  "
            ],
            "text/plain": [
              "          protein_path                                             ligand\n",
              "0    /tmp/pdb/6ej2.pdb  CCCCNC(=O)[C@H](C)C[C@H](O)[C@@H]2C[C@H](C)CCC...\n",
              "1    /tmp/pdb/6ej2.pdb  C[C@@H]1CCCCCCOCC(=O)N(C)[C@@H](C)C(=O)N[C@@H]...\n",
              "2    /tmp/pdb/6ej2.pdb  CCCC2=CC(CNC[C@@H](O)[C@@H]1C[C@H](C)CCCCCCOCC...\n",
              "3    /tmp/pdb/6ej2.pdb  CCN2CCCCC[C@@H](C)C[C@H](NC(=O)c1cc(ccc1)C2=O)...\n",
              "4    /tmp/pdb/6ej2.pdb  CC(C)c5cc(CNC[C@@H](O)[C@@H]4C[C@H](C)CCCCCN([...\n",
              "..                 ...                                                ...\n",
              "149  /tmp/pdb/6ej2.pdb  CCCCNC(=O)[C@H](C)C[C@H](O)[C@@H]2Cc3cc(CCCCCN...\n",
              "150  /tmp/pdb/6ej2.pdb  CCCCNC(=O)[C@H](C)C[C@H](O)[C@@H]2Cc3cccc(CCCC...\n",
              "151  /tmp/pdb/6ej2.pdb  CCCCNC(=O)[C@H](C)C[C@H](O)[C@@H]2Cc1cccc(c1)O...\n",
              "152  /tmp/pdb/6ej2.pdb  CCCCNC(=O)[C@H](C)C[C@H](O)[C@@H]2Cc3cc(Cc1ccc...\n",
              "153  /tmp/pdb/6ej2.pdb  CCCCNC(=O)[C@H](C)C[C@H](O)[C@@H]2Cc3ccc(O)c(C...\n",
              "\n",
              "[154 rows x 2 columns]"
            ]
          },
          "execution_count": 5,
          "metadata": {},
          "output_type": "execute_result"
        }
      ],
      "source": [
        "# processing the BACE1 reference set for local processing\n",
        "# TODO replace with complete counterscreen set\n",
        "import pandas as pd\n",
        "df = pd.read_csv(\"/sirt3/data/external/d3r_benchmark/BACE1/BACE_score_compounds_D3R_GC4_answers.csv\")\n",
        "df[\"protein_path\"] = \"/tmp/pdb/6ej2.pdb\"\n",
        "df[\"ligand\"] = df['SMILES']\n",
        "df = df[[\"protein_path\", \"ligand\"]]\n",
        "df.to_csv(\"/sirt3/data/processed/affinity_ranking/BACE1/input_protein_ligand.csv\")\n",
        "df"
      ]
    },
    {
      "cell_type": "code",
      "execution_count": null,
      "metadata": {
        "id": "Ptul2hJM2HmA"
      },
      "outputs": [],
      "source": [
        "# clear out old results if running multiple times -- hopefully they have been downloaded already\n",
        "!rm -rf /content/DiffDock/results"
      ]
    },
    {
      "cell_type": "markdown",
      "metadata": {
        "id": "Dq9PwzHUWDlj"
      },
      "source": [
        "## Install prerequisites"
      ]
    },
    {
      "cell_type": "code",
      "execution_count": null,
      "metadata": {
        "colab": {
          "base_uri": "https://localhost:8080/"
        },
        "id": "FSbikKk6fXAu",
        "outputId": "53bcee0f-c8f3-4ec2-8106-99f0d5219f29"
      },
      "outputs": [
        {
          "name": "stdout",
          "output_type": "stream",
          "text": [
            "\u001b[?25l\r\u001b[K     |▏                               | 10 kB 11.4 MB/s eta 0:00:01\r\u001b[K     |▍                               | 20 kB 5.6 MB/s eta 0:00:01\r\u001b[K     |▋                               | 30 kB 8.1 MB/s eta 0:00:01\r\u001b[K     |▉                               | 40 kB 3.7 MB/s eta 0:00:01\r\u001b[K     |█                               | 51 kB 4.1 MB/s eta 0:00:01\r\u001b[K     |█▎                              | 61 kB 4.9 MB/s eta 0:00:01\r\u001b[K     |█▌                              | 71 kB 5.0 MB/s eta 0:00:01\r\u001b[K     |█▊                              | 81 kB 4.9 MB/s eta 0:00:01\r\u001b[K     |█▉                              | 92 kB 5.5 MB/s eta 0:00:01\r\u001b[K     |██                              | 102 kB 4.5 MB/s eta 0:00:01\r\u001b[K     |██▎                             | 112 kB 4.5 MB/s eta 0:00:01\r\u001b[K     |██▌                             | 122 kB 4.5 MB/s eta 0:00:01\r\u001b[K     |██▊                             | 133 kB 4.5 MB/s eta 0:00:01\r\u001b[K     |███                             | 143 kB 4.5 MB/s eta 0:00:01\r\u001b[K     |███▏                            | 153 kB 4.5 MB/s eta 0:00:01\r\u001b[K     |███▍                            | 163 kB 4.5 MB/s eta 0:00:01\r\u001b[K     |███▌                            | 174 kB 4.5 MB/s eta 0:00:01\r\u001b[K     |███▊                            | 184 kB 4.5 MB/s eta 0:00:01\r\u001b[K     |████                            | 194 kB 4.5 MB/s eta 0:00:01\r\u001b[K     |████▏                           | 204 kB 4.5 MB/s eta 0:00:01\r\u001b[K     |████▍                           | 215 kB 4.5 MB/s eta 0:00:01\r\u001b[K     |████▋                           | 225 kB 4.5 MB/s eta 0:00:01\r\u001b[K     |████▉                           | 235 kB 4.5 MB/s eta 0:00:01\r\u001b[K     |█████                           | 245 kB 4.5 MB/s eta 0:00:01\r\u001b[K     |█████▎                          | 256 kB 4.5 MB/s eta 0:00:01\r\u001b[K     |█████▍                          | 266 kB 4.5 MB/s eta 0:00:01\r\u001b[K     |█████▋                          | 276 kB 4.5 MB/s eta 0:00:01\r\u001b[K     |█████▉                          | 286 kB 4.5 MB/s eta 0:00:01\r\u001b[K     |██████                          | 296 kB 4.5 MB/s eta 0:00:01\r\u001b[K     |██████▎                         | 307 kB 4.5 MB/s eta 0:00:01\r\u001b[K     |██████▌                         | 317 kB 4.5 MB/s eta 0:00:01\r\u001b[K     |██████▊                         | 327 kB 4.5 MB/s eta 0:00:01\r\u001b[K     |███████                         | 337 kB 4.5 MB/s eta 0:00:01\r\u001b[K     |███████                         | 348 kB 4.5 MB/s eta 0:00:01\r\u001b[K     |███████▎                        | 358 kB 4.5 MB/s eta 0:00:01\r\u001b[K     |███████▌                        | 368 kB 4.5 MB/s eta 0:00:01\r\u001b[K     |███████▊                        | 378 kB 4.5 MB/s eta 0:00:01\r\u001b[K     |████████                        | 389 kB 4.5 MB/s eta 0:00:01\r\u001b[K     |████████▏                       | 399 kB 4.5 MB/s eta 0:00:01\r\u001b[K     |████████▍                       | 409 kB 4.5 MB/s eta 0:00:01\r\u001b[K     |████████▋                       | 419 kB 4.5 MB/s eta 0:00:01\r\u001b[K     |████████▊                       | 430 kB 4.5 MB/s eta 0:00:01\r\u001b[K     |█████████                       | 440 kB 4.5 MB/s eta 0:00:01\r\u001b[K     |█████████▏                      | 450 kB 4.5 MB/s eta 0:00:01\r\u001b[K     |█████████▍                      | 460 kB 4.5 MB/s eta 0:00:01\r\u001b[K     |█████████▋                      | 471 kB 4.5 MB/s eta 0:00:01\r\u001b[K     |█████████▉                      | 481 kB 4.5 MB/s eta 0:00:01\r\u001b[K     |██████████                      | 491 kB 4.5 MB/s eta 0:00:01\r\u001b[K     |██████████▎                     | 501 kB 4.5 MB/s eta 0:00:01\r\u001b[K     |██████████▌                     | 512 kB 4.5 MB/s eta 0:00:01\r\u001b[K     |██████████▋                     | 522 kB 4.5 MB/s eta 0:00:01\r\u001b[K     |██████████▉                     | 532 kB 4.5 MB/s eta 0:00:01\r\u001b[K     |███████████                     | 542 kB 4.5 MB/s eta 0:00:01\r\u001b[K     |███████████▎                    | 552 kB 4.5 MB/s eta 0:00:01\r\u001b[K     |███████████▌                    | 563 kB 4.5 MB/s eta 0:00:01\r\u001b[K     |███████████▊                    | 573 kB 4.5 MB/s eta 0:00:01\r\u001b[K     |████████████                    | 583 kB 4.5 MB/s eta 0:00:01\r\u001b[K     |████████████▏                   | 593 kB 4.5 MB/s eta 0:00:01\r\u001b[K     |████████████▎                   | 604 kB 4.5 MB/s eta 0:00:01\r\u001b[K     |████████████▌                   | 614 kB 4.5 MB/s eta 0:00:01\r\u001b[K     |████████████▊                   | 624 kB 4.5 MB/s eta 0:00:01\r\u001b[K     |█████████████                   | 634 kB 4.5 MB/s eta 0:00:01\r\u001b[K     |█████████████▏                  | 645 kB 4.5 MB/s eta 0:00:01\r\u001b[K     |█████████████▍                  | 655 kB 4.5 MB/s eta 0:00:01\r\u001b[K     |█████████████▋                  | 665 kB 4.5 MB/s eta 0:00:01\r\u001b[K     |█████████████▉                  | 675 kB 4.5 MB/s eta 0:00:01\r\u001b[K     |██████████████                  | 686 kB 4.5 MB/s eta 0:00:01\r\u001b[K     |██████████████▏                 | 696 kB 4.5 MB/s eta 0:00:01\r\u001b[K     |██████████████▍                 | 706 kB 4.5 MB/s eta 0:00:01\r\u001b[K     |██████████████▋                 | 716 kB 4.5 MB/s eta 0:00:01\r\u001b[K     |██████████████▉                 | 727 kB 4.5 MB/s eta 0:00:01\r\u001b[K     |███████████████                 | 737 kB 4.5 MB/s eta 0:00:01\r\u001b[K     |███████████████▎                | 747 kB 4.5 MB/s eta 0:00:01\r\u001b[K     |███████████████▌                | 757 kB 4.5 MB/s eta 0:00:01\r\u001b[K     |███████████████▊                | 768 kB 4.5 MB/s eta 0:00:01\r\u001b[K     |███████████████▉                | 778 kB 4.5 MB/s eta 0:00:01\r\u001b[K     |████████████████                | 788 kB 4.5 MB/s eta 0:00:01\r\u001b[K     |████████████████▎               | 798 kB 4.5 MB/s eta 0:00:01\r\u001b[K     |████████████████▌               | 808 kB 4.5 MB/s eta 0:00:01\r\u001b[K     |████████████████▊               | 819 kB 4.5 MB/s eta 0:00:01\r\u001b[K     |█████████████████               | 829 kB 4.5 MB/s eta 0:00:01\r\u001b[K     |█████████████████▏              | 839 kB 4.5 MB/s eta 0:00:01\r\u001b[K     |█████████████████▍              | 849 kB 4.5 MB/s eta 0:00:01\r\u001b[K     |█████████████████▌              | 860 kB 4.5 MB/s eta 0:00:01\r\u001b[K     |█████████████████▊              | 870 kB 4.5 MB/s eta 0:00:01\r\u001b[K     |██████████████████              | 880 kB 4.5 MB/s eta 0:00:01\r\u001b[K     |██████████████████▏             | 890 kB 4.5 MB/s eta 0:00:01\r\u001b[K     |██████████████████▍             | 901 kB 4.5 MB/s eta 0:00:01\r\u001b[K     |██████████████████▋             | 911 kB 4.5 MB/s eta 0:00:01\r\u001b[K     |██████████████████▉             | 921 kB 4.5 MB/s eta 0:00:01\r\u001b[K     |███████████████████             | 931 kB 4.5 MB/s eta 0:00:01\r\u001b[K     |███████████████████▎            | 942 kB 4.5 MB/s eta 0:00:01\r\u001b[K     |███████████████████▍            | 952 kB 4.5 MB/s eta 0:00:01\r\u001b[K     |███████████████████▋            | 962 kB 4.5 MB/s eta 0:00:01\r\u001b[K     |███████████████████▉            | 972 kB 4.5 MB/s eta 0:00:01\r\u001b[K     |████████████████████            | 983 kB 4.5 MB/s eta 0:00:01\r\u001b[K     |████████████████████▎           | 993 kB 4.5 MB/s eta 0:00:01\r\u001b[K     |████████████████████▌           | 1.0 MB 4.5 MB/s eta 0:00:01\r\u001b[K     |████████████████████▊           | 1.0 MB 4.5 MB/s eta 0:00:01\r\u001b[K     |█████████████████████           | 1.0 MB 4.5 MB/s eta 0:00:01\r\u001b[K     |█████████████████████           | 1.0 MB 4.5 MB/s eta 0:00:01\r\u001b[K     |█████████████████████▎          | 1.0 MB 4.5 MB/s eta 0:00:01\r\u001b[K     |█████████████████████▌          | 1.1 MB 4.5 MB/s eta 0:00:01\r\u001b[K     |█████████████████████▊          | 1.1 MB 4.5 MB/s eta 0:00:01\r\u001b[K     |██████████████████████          | 1.1 MB 4.5 MB/s eta 0:00:01\r\u001b[K     |██████████████████████▏         | 1.1 MB 4.5 MB/s eta 0:00:01\r\u001b[K     |██████████████████████▍         | 1.1 MB 4.5 MB/s eta 0:00:01\r\u001b[K     |██████████████████████▋         | 1.1 MB 4.5 MB/s eta 0:00:01\r\u001b[K     |██████████████████████▊         | 1.1 MB 4.5 MB/s eta 0:00:01\r\u001b[K     |███████████████████████         | 1.1 MB 4.5 MB/s eta 0:00:01\r\u001b[K     |███████████████████████▏        | 1.1 MB 4.5 MB/s eta 0:00:01\r\u001b[K     |███████████████████████▍        | 1.1 MB 4.5 MB/s eta 0:00:01\r\u001b[K     |███████████████████████▋        | 1.2 MB 4.5 MB/s eta 0:00:01\r\u001b[K     |███████████████████████▉        | 1.2 MB 4.5 MB/s eta 0:00:01\r\u001b[K     |████████████████████████        | 1.2 MB 4.5 MB/s eta 0:00:01\r\u001b[K     |████████████████████████▎       | 1.2 MB 4.5 MB/s eta 0:00:01\r\u001b[K     |████████████████████████▌       | 1.2 MB 4.5 MB/s eta 0:00:01\r\u001b[K     |████████████████████████▋       | 1.2 MB 4.5 MB/s eta 0:00:01\r\u001b[K     |████████████████████████▉       | 1.2 MB 4.5 MB/s eta 0:00:01\r\u001b[K     |█████████████████████████       | 1.2 MB 4.5 MB/s eta 0:00:01\r\u001b[K     |█████████████████████████▎      | 1.2 MB 4.5 MB/s eta 0:00:01\r\u001b[K     |█████████████████████████▌      | 1.2 MB 4.5 MB/s eta 0:00:01\r\u001b[K     |█████████████████████████▊      | 1.3 MB 4.5 MB/s eta 0:00:01\r\u001b[K     |██████████████████████████      | 1.3 MB 4.5 MB/s eta 0:00:01\r\u001b[K     |██████████████████████████▏     | 1.3 MB 4.5 MB/s eta 0:00:01\r\u001b[K     |██████████████████████████▎     | 1.3 MB 4.5 MB/s eta 0:00:01\r\u001b[K     |██████████████████████████▌     | 1.3 MB 4.5 MB/s eta 0:00:01\r\u001b[K     |██████████████████████████▊     | 1.3 MB 4.5 MB/s eta 0:00:01\r\u001b[K     |███████████████████████████     | 1.3 MB 4.5 MB/s eta 0:00:01\r\u001b[K     |███████████████████████████▏    | 1.3 MB 4.5 MB/s eta 0:00:01\r\u001b[K     |███████████████████████████▍    | 1.3 MB 4.5 MB/s eta 0:00:01\r\u001b[K     |███████████████████████████▋    | 1.4 MB 4.5 MB/s eta 0:00:01\r\u001b[K     |███████████████████████████▉    | 1.4 MB 4.5 MB/s eta 0:00:01\r\u001b[K     |████████████████████████████    | 1.4 MB 4.5 MB/s eta 0:00:01\r\u001b[K     |████████████████████████████▏   | 1.4 MB 4.5 MB/s eta 0:00:01\r\u001b[K     |████████████████████████████▍   | 1.4 MB 4.5 MB/s eta 0:00:01\r\u001b[K     |████████████████████████████▋   | 1.4 MB 4.5 MB/s eta 0:00:01\r\u001b[K     |████████████████████████████▉   | 1.4 MB 4.5 MB/s eta 0:00:01\r\u001b[K     |█████████████████████████████   | 1.4 MB 4.5 MB/s eta 0:00:01\r\u001b[K     |█████████████████████████████▎  | 1.4 MB 4.5 MB/s eta 0:00:01\r\u001b[K     |█████████████████████████████▌  | 1.4 MB 4.5 MB/s eta 0:00:01\r\u001b[K     |█████████████████████████████▊  | 1.5 MB 4.5 MB/s eta 0:00:01\r\u001b[K     |█████████████████████████████▉  | 1.5 MB 4.5 MB/s eta 0:00:01\r\u001b[K     |██████████████████████████████  | 1.5 MB 4.5 MB/s eta 0:00:01\r\u001b[K     |██████████████████████████████▎ | 1.5 MB 4.5 MB/s eta 0:00:01\r\u001b[K     |██████████████████████████████▌ | 1.5 MB 4.5 MB/s eta 0:00:01\r\u001b[K     |██████████████████████████████▊ | 1.5 MB 4.5 MB/s eta 0:00:01\r\u001b[K     |███████████████████████████████ | 1.5 MB 4.5 MB/s eta 0:00:01\r\u001b[K     |███████████████████████████████▏| 1.5 MB 4.5 MB/s eta 0:00:01\r\u001b[K     |███████████████████████████████▍| 1.5 MB 4.5 MB/s eta 0:00:01\r\u001b[K     |███████████████████████████████▌| 1.5 MB 4.5 MB/s eta 0:00:01\r\u001b[K     |███████████████████████████████▊| 1.6 MB 4.5 MB/s eta 0:00:01\r\u001b[K     |████████████████████████████████| 1.6 MB 4.5 MB/s eta 0:00:01\r\u001b[K     |████████████████████████████████| 1.6 MB 4.5 MB/s \n",
            "\u001b[?25htime: 398 µs (started: 2022-12-20 08:54:37 +00:00)\n"
          ]
        }
      ],
      "source": [
        "!pip install ipython-autotime --quiet\n",
        "%load_ext autotime"
      ]
    },
    {
      "cell_type": "code",
      "execution_count": null,
      "metadata": {
        "colab": {
          "base_uri": "https://localhost:8080/"
        },
        "id": "hTQPGM8ptbRy",
        "outputId": "3e837c97-dba5-4b66-c62a-73c661696a37"
      },
      "outputs": [
        {
          "name": "stdout",
          "output_type": "stream",
          "text": [
            "/content\n",
            "Cloning into 'DiffDock'...\n",
            "remote: Enumerating objects: 211, done.\u001b[K\n",
            "remote: Counting objects: 100% (92/92), done.\u001b[K\n",
            "remote: Compressing objects: 100% (32/32), done.\u001b[K\n",
            "remote: Total 211 (delta 73), reused 64 (delta 60), pack-reused 119\u001b[K\n",
            "Receiving objects: 100% (211/211), 153.23 MiB | 59.87 MiB/s, done.\n",
            "Resolving deltas: 100% (105/105), done.\n",
            "/content/DiffDock\n",
            "Note: checking out 'a6c5275'.\n",
            "\n",
            "You are in 'detached HEAD' state. You can look around, make experimental\n",
            "changes and commit them, and you can discard any commits you make in this\n",
            "state without impacting any branches by performing another checkout.\n",
            "\n",
            "If you want to create a new branch to retain commits you create, you may\n",
            "do so (now or later) by using -b with the checkout command again. Example:\n",
            "\n",
            "  git checkout -b <new-branch-name>\n",
            "\n",
            "HEAD is now at a6c5275 remove debugging raise in the inference file\n",
            "time: 5.05 s (started: 2022-12-20 08:54:37 +00:00)\n"
          ]
        }
      ],
      "source": [
        "#TODO clean this up and use the dependency in the SIRT3 project\n",
        "if not os.path.exists(\"/content/DiffDock\"):\n",
        "    %cd /content\n",
        "    !git clone https://github.com/gcorso/DiffDock.git\n",
        "    %cd /content/DiffDock\n",
        "    !git checkout a6c5275 # remove/update for more up to date code"
      ]
    },
    {
      "cell_type": "code",
      "execution_count": null,
      "metadata": {
        "colab": {
          "base_uri": "https://localhost:8080/"
        },
        "id": "0vSCAwwrtdr8",
        "outputId": "43c8e965-ab6f-403b-99c8-3569dc4bef47"
      },
      "outputs": [
        {
          "name": "stdout",
          "output_type": "stream",
          "text": [
            "\u001b[?25l\r\u001b[K     |█████                           | 10 kB 11.8 MB/s eta 0:00:01\r\u001b[K     |██████████                      | 20 kB 5.2 MB/s eta 0:00:01\r\u001b[K     |███████████████▏                | 30 kB 7.6 MB/s eta 0:00:01\r\u001b[K     |████████████████████▏           | 40 kB 3.8 MB/s eta 0:00:01\r\u001b[K     |█████████████████████████▏      | 51 kB 3.9 MB/s eta 0:00:01\r\u001b[K     |██████████████████████████████▎ | 61 kB 4.6 MB/s eta 0:00:01\r\u001b[K     |████████████████████████████████| 65 kB 2.4 MB/s \n",
            "\u001b[?25h  Building wheel for pyg (setup.py) ... \u001b[?25l\u001b[?25hdone\n",
            "  Building wheel for pkgtools (setup.py) ... \u001b[?25l\u001b[?25hdone\n",
            "\u001b[K     |████████████████████████████████| 1.9 MB 4.7 MB/s \n",
            "\u001b[K     |████████████████████████████████| 2.7 MB 4.6 MB/s \n",
            "\u001b[K     |████████████████████████████████| 37.0 MB 1.2 MB/s \n",
            "\u001b[K     |████████████████████████████████| 117 kB 5.0 MB/s \n",
            "\u001b[K     |████████████████████████████████| 878 kB 4.9 MB/s \n",
            "\u001b[?25h\u001b[31mERROR: Could not find a version that satisfies the requirement torch==1.12.1+cu113 (from versions: 1.4.0, 1.5.0, 1.5.1, 1.6.0, 1.7.0, 1.7.1, 1.8.0, 1.8.1, 1.9.0, 1.9.1, 1.10.0, 1.10.1, 1.10.2, 1.11.0, 1.12.0, 1.12.1, 1.13.0, 1.13.1)\u001b[0m\n",
            "\u001b[31mERROR: No matching distribution found for torch==1.12.1+cu113\u001b[0m\n",
            "time: 42.1 s (started: 2022-12-20 08:54:42 +00:00)\n"
          ]
        }
      ],
      "source": [
        "try:\n",
        "    import biopandas\n",
        "    import torch\n",
        "except:\n",
        "    !pip install pyg==0.7.1 --quiet\n",
        "    !pip install pyyaml==6.0 --quiet\n",
        "    !pip install scipy==1.7.3 --quiet\n",
        "    !pip install networkx==2.6.3 --quiet\n",
        "    !pip install biopython==1.79 --quiet\n",
        "    !pip install rdkit-pypi==2022.03.5 --quiet\n",
        "    !pip install e3nn==0.5.0 --quiet\n",
        "    !pip install spyrmsd==0.5.2 --quiet\n",
        "    !pip install pandas==1.3.5 --quiet\n",
        "    !pip install biopandas==0.4.1 --quiet\n",
        "    !pip install torch==1.12.1+cu113 --quiet"
      ]
    },
    {
      "cell_type": "code",
      "execution_count": null,
      "metadata": {
        "colab": {
          "base_uri": "https://localhost:8080/"
        },
        "id": "_RZ9qNmHcLMX",
        "outputId": "a92de154-7a11-41b6-fd18-f491ce4aedff"
      },
      "outputs": [
        {
          "name": "stdout",
          "output_type": "stream",
          "text": [
            "\u001b[33mWARNING: Skipping torch-scatter as it is not installed.\u001b[0m\n",
            "\u001b[33mWARNING: Skipping torch-sparse as it is not installed.\u001b[0m\n",
            "\u001b[33mWARNING: Skipping torch-geometric as it is not installed.\u001b[0m\n",
            "\u001b[33mWARNING: Skipping torch-cluster as it is not installed.\u001b[0m\n",
            "\u001b[K     |████████████████████████████████| 9.4 MB 4.9 MB/s \n",
            "\u001b[K     |████████████████████████████████| 4.6 MB 5.0 MB/s \n",
            "\u001b[K     |████████████████████████████████| 3.2 MB 4.7 MB/s \n",
            "\u001b[K     |████████████████████████████████| 512 kB 4.6 MB/s \n",
            "\u001b[K     |████████████████████████████████| 280 kB 91.8 MB/s \n",
            "\u001b[?25h  Building wheel for torch-geometric (setup.py) ... \u001b[?25l\u001b[?25hdone\n",
            "time: 22.6 s (started: 2022-12-20 08:55:24 +00:00)\n"
          ]
        }
      ],
      "source": [
        "import torch\n",
        "\n",
        "try:\n",
        "    import torch_geometric\n",
        "except ModuleNotFoundError:\n",
        "    !pip uninstall torch-scatter torch-sparse torch-geometric torch-cluster  --y\n",
        "    !pip install torch-scatter -f https://data.pyg.org/whl/torch-{torch.__version__}.html --quiet\n",
        "    !pip install torch-sparse -f https://data.pyg.org/whl/torch-{torch.__version__}.html --quiet\n",
        "    !pip install torch-cluster -f https://data.pyg.org/whl/torch-{torch.__version__}.html --quiet\n",
        "    !pip install git+https://github.com/pyg-team/pytorch_geometric.git  --quiet # no version for some reason??"
      ]
    },
    {
      "cell_type": "markdown",
      "metadata": {
        "id": "wpIBFqW7eNC7"
      },
      "source": [
        "## Install ESM and prepare PDB file for ESM"
      ]
    },
    {
      "cell_type": "code",
      "execution_count": null,
      "metadata": {
        "colab": {
          "base_uri": "https://localhost:8080/"
        },
        "id": "2lduAr-WWPyX",
        "outputId": "6676d854-3deb-4af5-b9e4-724489fc1554"
      },
      "outputs": [
        {
          "name": "stdout",
          "output_type": "stream",
          "text": [
            "/content/DiffDock\n",
            "Cloning into 'esm'...\n",
            "remote: Enumerating objects: 879, done.\u001b[K\n",
            "remote: Counting objects: 100% (267/267), done.\u001b[K\n",
            "remote: Compressing objects: 100% (131/131), done.\u001b[K\n",
            "remote: Total 879 (delta 157), reused 229 (delta 132), pack-reused 612\u001b[K\n",
            "Receiving objects: 100% (879/879), 10.76 MiB | 22.35 MiB/s, done.\n",
            "Resolving deltas: 100% (516/516), done.\n",
            "/content/DiffDock/esm\n",
            "Note: checking out 'ca8a710'.\n",
            "\n",
            "You are in 'detached HEAD' state. You can look around, make experimental\n",
            "changes and commit them, and you can discard any commits you make in this\n",
            "state without impacting any branches by performing another checkout.\n",
            "\n",
            "If you want to create a new branch to retain commits you create, you may\n",
            "do so (now or later) by using -b with the checkout command again. Example:\n",
            "\n",
            "  git checkout -b <new-branch-name>\n",
            "\n",
            "HEAD is now at ca8a710 Update version.py (#310)\n",
            "Looking in indexes: https://pypi.org/simple, https://us-python.pkg.dev/colab-wheels/public/simple/\n",
            "Obtaining file:///content/DiffDock/esm\n",
            "  Installing build dependencies ... \u001b[?25l\u001b[?25hdone\n",
            "  Getting requirements to build wheel ... \u001b[?25l\u001b[?25hdone\n",
            "    Preparing wheel metadata ... \u001b[?25l\u001b[?25hdone\n",
            "Installing collected packages: fair-esm\n",
            "  Running setup.py develop for fair-esm\n",
            "Successfully installed fair-esm\n",
            "/content/DiffDock\n",
            "time: 11.7 s (started: 2022-12-20 08:55:47 +00:00)\n"
          ]
        }
      ],
      "source": [
        "if not os.path.exists(\"/content/DiffDock/esm\"):\n",
        "    %cd /content/DiffDock\n",
        "    !git clone https://github.com/facebookresearch/esm\n",
        "    %cd /content/DiffDock/esm\n",
        "    !git checkout ca8a710 # remove/update for more up to date code\n",
        "    !sudo pip install -e .\n",
        "    %cd /content/DiffDock"
      ]
    },
    {
      "cell_type": "code",
      "execution_count": null,
      "metadata": {
        "colab": {
          "base_uri": "https://localhost:8080/"
        },
        "id": "qbxUtRgHwoIx",
        "outputId": "f25b1c7a-2999-4cd4-802c-7111a838d9f1"
      },
      "outputs": [
        {
          "name": "stdout",
          "output_type": "stream",
          "text": [
            "/content/DiffDock\n",
            "  0% 0/1 [00:00<?, ?it/s]/usr/local/lib/python3.8/dist-packages/Bio/PDB/PDBParser.py:395: PDBConstructionWarning: Ignoring unrecognized record 'END' at line 9575\n",
            "  warnings.warn(\n",
            "100% 1/1 [00:00<00:00,  9.61it/s]\n",
            "time: 717 ms (started: 2022-12-20 08:55:59 +00:00)\n"
          ]
        }
      ],
      "source": [
        "%cd /content/DiffDock\n",
        "!python datasets/esm_embedding_preparation.py --protein_ligand_csv /sirt3/data/processed/affinity_ranking/SIRT3/input_protein_ligand.csv --out_file /sirt3/data/processed/affinity_ranking/SIRT3/prepared_for_esm.fasta "
      ]
    },
    {
      "cell_type": "code",
      "execution_count": null,
      "metadata": {
        "colab": {
          "base_uri": "https://localhost:8080/"
        },
        "id": "cKUU2PKDxTkX",
        "outputId": "97855c54-d5ec-4aa2-8a15-4c64e2bff344"
      },
      "outputs": [
        {
          "name": "stdout",
          "output_type": "stream",
          "text": [
            "/content/DiffDock\n",
            "env: HOME=esm/model_weights\n",
            "env: PYTHONPATH=$PYTHONPATH:/content/DiffDock/esm\n",
            "Downloading: \"https://dl.fbaipublicfiles.com/fair-esm/models/esm2_t33_650M_UR50D.pt\" to esm/model_weights/.cache/torch/hub/checkpoints/esm2_t33_650M_UR50D.pt\n",
            "Downloading: \"https://dl.fbaipublicfiles.com/fair-esm/regression/esm2_t33_650M_UR50D-contact-regression.pt\" to esm/model_weights/.cache/torch/hub/checkpoints/esm2_t33_650M_UR50D-contact-regression.pt\n",
            "Transferred model to GPU\n",
            "Read /sirt3/data/processed/affinity_ranking/SIRT3/prepared_for_esm.fasta with 1 sequences\n",
            "Processing 1 of 1 batches (1 sequences)\n",
            "time: 1min 12s (started: 2022-12-20 08:55:59 +00:00)\n"
          ]
        }
      ],
      "source": [
        "%cd /content/DiffDock\n",
        "%env HOME=esm/model_weights\n",
        "%env PYTHONPATH=$PYTHONPATH:/content/DiffDock/esm\n",
        "!python /content/DiffDock/esm/scripts/extract.py esm2_t33_650M_UR50D /sirt3/data/processed/affinity_ranking/SIRT3/prepared_for_esm.fasta /sirt3/data/processed/affinity_ranking/SIRT3/esm2_output --repr_layers 33 --include per_tok --truncation_seq_length 30000"
      ]
    },
    {
      "cell_type": "markdown",
      "metadata": {
        "id": "7bJTXj5SeYzG"
      },
      "source": [
        "## Run DiffDock"
      ]
    },
    {
      "cell_type": "code",
      "execution_count": null,
      "metadata": {
        "id": "_D5gqUcabTAg"
      },
      "outputs": [],
      "source": [
        "%cd /content/DiffDock\n",
        "!python -m inference --protein_ligand_csv /sirt3/data/processed/affinity_ranking/SIRT3/input_protein_ligand.csv --esm_embeddings_path /sirt3/data/processed/affinity_ranking/SIRT3/esm2_output --out_dir /sirt3/data/processed/affinity_ranking/SIRT3/ --inference_steps 20 --samples_per_complex 40 --batch_size 32"
      ]
    },
    {
      "cell_type": "markdown",
      "metadata": {
        "id": "zlPOKLIBsiPU"
      },
      "source": [
        "# Post-process and download results"
      ]
    },
    {
      "cell_type": "code",
      "execution_count": null,
      "metadata": {
        "colab": {
          "background_save": true
        },
        "id": "VqWHbQdeXbe0",
        "outputId": "4c97b5d3-b880-4cb7-e033-b02ee586244b"
      },
      "outputs": [
        {
          "name": "stdout",
          "output_type": "stream",
          "text": [
            "/content/DiffDock\n",
            "--2022-12-20 09:08:48--  https://sourceforge.net/projects/smina/files/smina.static/download\n",
            "Resolving sourceforge.net (sourceforge.net)... 104.18.11.128, 104.18.10.128, 2606:4700::6812:a80, ...\n",
            "Connecting to sourceforge.net (sourceforge.net)|104.18.11.128|:443... connected.\n",
            "HTTP request sent, awaiting response... 302 Found\n",
            "Location: https://downloads.sourceforge.net/project/smina/smina.static?ts=gAAAAABjoXugQSapI1rbUWnY0CNxn6I0KIVFf-liwzYM5JxVmDKMalFw43ZGTikjn3lTq0D6UQcMDUiokm1jKkpDdtDC9foQ0g%3D%3D&use_mirror=gigenet&r= [following]\n",
            "--2022-12-20 09:08:48--  https://downloads.sourceforge.net/project/smina/smina.static?ts=gAAAAABjoXugQSapI1rbUWnY0CNxn6I0KIVFf-liwzYM5JxVmDKMalFw43ZGTikjn3lTq0D6UQcMDUiokm1jKkpDdtDC9foQ0g%3D%3D&use_mirror=gigenet&r=\n",
            "Resolving downloads.sourceforge.net (downloads.sourceforge.net)... 204.68.111.105\n",
            "Connecting to downloads.sourceforge.net (downloads.sourceforge.net)|204.68.111.105|:443... connected.\n",
            "HTTP request sent, awaiting response... 302 Found\n",
            "Location: https://gigenet.dl.sourceforge.net/project/smina/smina.static [following]\n",
            "--2022-12-20 09:08:48--  https://gigenet.dl.sourceforge.net/project/smina/smina.static\n",
            "Resolving gigenet.dl.sourceforge.net (gigenet.dl.sourceforge.net)... 69.65.16.142\n",
            "Connecting to gigenet.dl.sourceforge.net (gigenet.dl.sourceforge.net)|69.65.16.142|:443... connected.\n",
            "HTTP request sent, awaiting response... 200 OK\n",
            "Length: 9853920 (9.4M) [application/octet-stream]\n",
            "Saving to: ‘smina’\n",
            "\n",
            "smina               100%[===================>]   9.40M  36.0MB/s    in 0.3s    \n",
            "\n",
            "2022-12-20 09:08:49 (36.0 MB/s) - ‘smina’ saved [9853920/9853920]\n",
            "\n",
            "time: 1.12 s (started: 2022-12-20 09:08:48 +00:00)\n"
          ]
        }
      ],
      "source": [
        "%cd /content/DiffDock\n",
        "!wget https://sourceforge.net/projects/smina/files/smina.static/download -O smina && chmod +x smina"
      ]
    },
    {
      "cell_type": "code",
      "execution_count": null,
      "metadata": {
        "colab": {
          "background_save": true,
          "referenced_widgets": [
            "711ff15adf9c4060b2a96e5e45d6ad51"
          ]
        },
        "id": "XpjCe9IWjz5M",
        "outputId": "4f402234-101c-44a6-f7b1-2988080f382c"
      },
      "outputs": [
        {
          "name": "stdout",
          "output_type": "stream",
          "text": [
            "/sirt3/data/processed/affinity_ranking/SIRT3\n"
          ]
        },
        {
          "data": {
            "application/vnd.jupyter.widget-view+json": {
              "model_id": "711ff15adf9c4060b2a96e5e45d6ad51",
              "version_major": 2,
              "version_minor": 0
            },
            "text/plain": [
              "runs: 0it [00:00, ?it/s]"
            ]
          },
          "metadata": {},
          "output_type": "display_data"
        },
        {
          "data": {
            "application/javascript": [
              "\n",
              "    async function download(id, filename, size) {\n",
              "      if (!google.colab.kernel.accessAllowed) {\n",
              "        return;\n",
              "      }\n",
              "      const div = document.createElement('div');\n",
              "      const label = document.createElement('label');\n",
              "      label.textContent = `Downloading \"${filename}\": `;\n",
              "      div.appendChild(label);\n",
              "      const progress = document.createElement('progress');\n",
              "      progress.max = size;\n",
              "      div.appendChild(progress);\n",
              "      document.body.appendChild(div);\n",
              "\n",
              "      const buffers = [];\n",
              "      let downloaded = 0;\n",
              "\n",
              "      const channel = await google.colab.kernel.comms.open(id);\n",
              "      // Send a message to notify the kernel that we're ready.\n",
              "      channel.send({})\n",
              "\n",
              "      for await (const message of channel.messages) {\n",
              "        // Send a message to notify the kernel that we're ready.\n",
              "        channel.send({})\n",
              "        if (message.buffers) {\n",
              "          for (const buffer of message.buffers) {\n",
              "            buffers.push(buffer);\n",
              "            downloaded += buffer.byteLength;\n",
              "            progress.value = downloaded;\n",
              "          }\n",
              "        }\n",
              "      }\n",
              "      const blob = new Blob(buffers, {type: 'application/binary'});\n",
              "      const a = document.createElement('a');\n",
              "      a.href = window.URL.createObjectURL(blob);\n",
              "      a.download = filename;\n",
              "      div.appendChild(a);\n",
              "      a.click();\n",
              "      div.remove();\n",
              "    }\n",
              "  "
            ],
            "text/plain": [
              "<IPython.core.display.Javascript object>"
            ]
          },
          "metadata": {},
          "output_type": "display_data"
        },
        {
          "data": {
            "application/javascript": [
              "download(\"download_36dd515e-065f-4bd8-97f9-6326237abfa8\", \"diffdock_221220.tar\", 10240)"
            ],
            "text/plain": [
              "<IPython.core.display.Javascript object>"
            ]
          },
          "metadata": {},
          "output_type": "display_data"
        },
        {
          "name": "stdout",
          "output_type": "stream",
          "text": [
            "time: 161 ms (started: 2022-12-20 09:08:49 +00:00)\n"
          ]
        }
      ],
      "source": [
        "import re\n",
        "import pandas as pd\n",
        "from glob import glob\n",
        "from shlex import quote\n",
        "from datetime import datetime\n",
        "from tqdm.auto import tqdm\n",
        "from google.colab import files\n",
        "\n",
        "%cd /sirt3/data/processed/affinity_ranking/SIRT3/\n",
        "results_dirs = glob(\"./index*\")\n",
        "\n",
        "rows = []\n",
        "for results_dir in tqdm(results_dirs, desc=\"runs\"):\n",
        "    results_pdb_file = \"/tmp/pdb/\" + re.findall(\"tmp-pdb-(.+\\.pdb)\", results_dir)[0]\n",
        "    results_smiles = re.findall(\"pdb_+(.+)\", results_dir)[0]\n",
        "    results_sdfs = [os.path.join(results_dir, f) for f in os.listdir(results_dir) if \"confidence\" in f and f.endswith(\".sdf\")]\n",
        "\n",
        "    results_pdb_file_no_hetatms = f\"{results_pdb_file}_nohet.pdb\"\n",
        "    !grep -v \"^HETATM\" {results_pdb_file} > {results_pdb_file_no_hetatms}\n",
        "    !cp {results_pdb_file} .\n",
        "\n",
        "    for results_sdf in tqdm(results_sdfs, leave=False, desc=\"files\"):\n",
        "        confidence = re.findall(\"confidence([\\-\\.\\d]+)\\.sdf\", results_sdf)[0]\n",
        "\n",
        "        scored_stdout = !/content/DiffDock/smina --score_only -r \"{results_pdb_file_no_hetatms}\" -l \"{results_sdf}\"\n",
        "        scored_affinity = re.findall(\"Affinity:\\s*([\\-\\.\\d+]+)\", '\\n'.join(scored_stdout))[0]\n",
        "        minimized_stdout = !/content/DiffDock/smina --local_only --minimize -r \"{results_pdb_file_no_hetatms}\" -l \"{results_sdf}\" --autobox_ligand \"{results_sdf}\" --autobox_add 2\n",
        "        minimized_affinity = re.findall(\"Affinity:\\s*([\\-\\.\\d+]+)\", '\\n'.join(minimized_stdout))[0]\n",
        "\n",
        "        rows.append((results_pdb_file.split('/')[-1], results_smiles, float(confidence), float(scored_affinity), float(minimized_affinity), results_sdf))\n",
        "\n",
        "#\n",
        "# create dataframe, tar file and download\n",
        "#\n",
        "df_results = pd.DataFrame(rows, columns=[\"pdb_file\", \"smiles\", \"diffdock_confidence\", \"smina_scored_affinity\", \"smina_minimized_affinity\", \"sdf_file\"])\n",
        "df_results_tsv = \"df_diffdock_results.tsv\"\n",
        "df_results.to_csv(df_results_tsv, sep='\\t', index=None)\n",
        "\n",
        "out_pdbs = ' '.join(set(df_results.pdb_file.apply(quote)))\n",
        "out_sdfs = ' '.join(df_results.sdf_file.apply(quote))\n",
        "\n",
        "if download_results:\n",
        "    tarname = f\"diffdock_{datetime.now().isoformat()[2:10].replace('-','')}\"\n",
        "    _ = !tar cvf {tarname}.tar --transform 's,^,{tarname}/,' --transform 's,\\./,,' {out_pdbs} {out_sdfs} {df_results_tsv}\n",
        "\n",
        "    files.download(f\"{tarname}.tar\")"
      ]
    },
    {
      "cell_type": "markdown",
      "metadata": {
        "id": "PIgH3MSt_dWx"
      },
      "source": [
        "## Compare smina affinities with DiffDock confidences"
      ]
    },
    {
      "cell_type": "code",
      "execution_count": null,
      "metadata": {
        "colab": {
          "background_save": true
        },
        "id": "uB3C-Bn0o9En",
        "outputId": "9725562e-c64b-48af-bf12-c56c420944f9"
      },
      "outputs": [
        {
          "data": {
            "text/html": [
              "\n",
              "  <div id=\"df-fec91790-abc6-4944-9e6f-1b66d163514b\">\n",
              "    <div class=\"colab-df-container\">\n",
              "      <div>\n",
              "<style scoped>\n",
              "    .dataframe tbody tr th:only-of-type {\n",
              "        vertical-align: middle;\n",
              "    }\n",
              "\n",
              "    .dataframe tbody tr th {\n",
              "        vertical-align: top;\n",
              "    }\n",
              "\n",
              "    .dataframe thead th {\n",
              "        text-align: right;\n",
              "    }\n",
              "</style>\n",
              "<table border=\"1\" class=\"dataframe\">\n",
              "  <thead>\n",
              "    <tr style=\"text-align: right;\">\n",
              "      <th></th>\n",
              "      <th>pdb_file</th>\n",
              "      <th>smiles</th>\n",
              "      <th>diffdock_confidence</th>\n",
              "      <th>smina_scored_affinity</th>\n",
              "      <th>smina_minimized_affinity</th>\n",
              "      <th>sdf_file</th>\n",
              "    </tr>\n",
              "  </thead>\n",
              "  <tbody>\n",
              "  </tbody>\n",
              "</table>\n",
              "</div>\n",
              "      <button class=\"colab-df-convert\" onclick=\"convertToInteractive('df-fec91790-abc6-4944-9e6f-1b66d163514b')\"\n",
              "              title=\"Convert this dataframe to an interactive table.\"\n",
              "              style=\"display:none;\">\n",
              "        \n",
              "  <svg xmlns=\"http://www.w3.org/2000/svg\" height=\"24px\"viewBox=\"0 0 24 24\"\n",
              "       width=\"24px\">\n",
              "    <path d=\"M0 0h24v24H0V0z\" fill=\"none\"/>\n",
              "    <path d=\"M18.56 5.44l.94 2.06.94-2.06 2.06-.94-2.06-.94-.94-2.06-.94 2.06-2.06.94zm-11 1L8.5 8.5l.94-2.06 2.06-.94-2.06-.94L8.5 2.5l-.94 2.06-2.06.94zm10 10l.94 2.06.94-2.06 2.06-.94-2.06-.94-.94-2.06-.94 2.06-2.06.94z\"/><path d=\"M17.41 7.96l-1.37-1.37c-.4-.4-.92-.59-1.43-.59-.52 0-1.04.2-1.43.59L10.3 9.45l-7.72 7.72c-.78.78-.78 2.05 0 2.83L4 21.41c.39.39.9.59 1.41.59.51 0 1.02-.2 1.41-.59l7.78-7.78 2.81-2.81c.8-.78.8-2.07 0-2.86zM5.41 20L4 18.59l7.72-7.72 1.47 1.35L5.41 20z\"/>\n",
              "  </svg>\n",
              "      </button>\n",
              "      \n",
              "  <style>\n",
              "    .colab-df-container {\n",
              "      display:flex;\n",
              "      flex-wrap:wrap;\n",
              "      gap: 12px;\n",
              "    }\n",
              "\n",
              "    .colab-df-convert {\n",
              "      background-color: #E8F0FE;\n",
              "      border: none;\n",
              "      border-radius: 50%;\n",
              "      cursor: pointer;\n",
              "      display: none;\n",
              "      fill: #1967D2;\n",
              "      height: 32px;\n",
              "      padding: 0 0 0 0;\n",
              "      width: 32px;\n",
              "    }\n",
              "\n",
              "    .colab-df-convert:hover {\n",
              "      background-color: #E2EBFA;\n",
              "      box-shadow: 0px 1px 2px rgba(60, 64, 67, 0.3), 0px 1px 3px 1px rgba(60, 64, 67, 0.15);\n",
              "      fill: #174EA6;\n",
              "    }\n",
              "\n",
              "    [theme=dark] .colab-df-convert {\n",
              "      background-color: #3B4455;\n",
              "      fill: #D2E3FC;\n",
              "    }\n",
              "\n",
              "    [theme=dark] .colab-df-convert:hover {\n",
              "      background-color: #434B5C;\n",
              "      box-shadow: 0px 1px 3px 1px rgba(0, 0, 0, 0.15);\n",
              "      filter: drop-shadow(0px 1px 2px rgba(0, 0, 0, 0.3));\n",
              "      fill: #FFFFFF;\n",
              "    }\n",
              "  </style>\n",
              "\n",
              "      <script>\n",
              "        const buttonEl =\n",
              "          document.querySelector('#df-fec91790-abc6-4944-9e6f-1b66d163514b button.colab-df-convert');\n",
              "        buttonEl.style.display =\n",
              "          google.colab.kernel.accessAllowed ? 'block' : 'none';\n",
              "\n",
              "        async function convertToInteractive(key) {\n",
              "          const element = document.querySelector('#df-fec91790-abc6-4944-9e6f-1b66d163514b');\n",
              "          const dataTable =\n",
              "            await google.colab.kernel.invokeFunction('convertToInteractive',\n",
              "                                                     [key], {});\n",
              "          if (!dataTable) return;\n",
              "\n",
              "          const docLinkHtml = 'Like what you see? Visit the ' +\n",
              "            '<a target=\"_blank\" href=https://colab.research.google.com/notebooks/data_table.ipynb>data table notebook</a>'\n",
              "            + ' to learn more about interactive tables.';\n",
              "          element.innerHTML = '';\n",
              "          dataTable['output_type'] = 'display_data';\n",
              "          await google.colab.output.renderOutput(dataTable, element);\n",
              "          const docLink = document.createElement('div');\n",
              "          docLink.innerHTML = docLinkHtml;\n",
              "          element.appendChild(docLink);\n",
              "        }\n",
              "      </script>\n",
              "    </div>\n",
              "  </div>\n",
              "  "
            ],
            "text/plain": [
              "Empty DataFrame\n",
              "Columns: [pdb_file, smiles, diffdock_confidence, smina_scored_affinity, smina_minimized_affinity, sdf_file]\n",
              "Index: []"
            ]
          },
          "execution_count": 17,
          "metadata": {},
          "output_type": "execute_result"
        },
        {
          "name": "stdout",
          "output_type": "stream",
          "text": [
            "time: 6.76 ms (started: 2022-12-20 09:08:49 +00:00)\n"
          ]
        }
      ],
      "source": [
        "df_results.sort_values(\"diffdock_confidence\", ascending=False)"
      ]
    }
  ],
  "metadata": {
    "accelerator": "GPU",
    "colab": {
      "machine_shape": "hm",
      "provenance": [],
      "include_colab_link": true
    },
    "gpuClass": "premium",
    "kernelspec": {
      "display_name": "Python 3",
      "name": "python3"
    },
    "language_info": {
      "name": "python"
    }
  },
  "nbformat": 4,
  "nbformat_minor": 0
}