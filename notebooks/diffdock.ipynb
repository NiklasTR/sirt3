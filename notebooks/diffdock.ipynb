{
  "cells": [
    {
      "cell_type": "markdown",
      "metadata": {
        "id": "view-in-github",
        "colab_type": "text"
      },
      "source": [
        "<a href=\"https://colab.research.google.com/github/NiklasTR/sirt3/blob/main/notebooks/diffdock.ipynb\" target=\"_parent\"><img src=\"https://colab.research.google.com/assets/colab-badge.svg\" alt=\"Open In Colab\"/></a>"
      ]
    },
    {
      "cell_type": "markdown",
      "metadata": {
        "id": "ZAH5NYgIWIlI"
      },
      "source": [
        "# DiffDock\n",
        "Dock a PDB files and a SMILES with [DiffDock](https://github.com/gcorso/DiffDock).\n",
        "\n",
        "Select Runtime / Run all to run an example PDB file and SMILES.\n",
        "\n",
        "v2 improvements:\n",
        "- works on proteins >1000 aas (with flag added to extract.py)\n",
        "- works on standard GPU (by reducing batch size from 10 to 6)\n",
        "- works with AlphaFold ids (AF-...) as well as PDB ids\n",
        "- works with comma-delimited PDB_ids and/or SMILES\n",
        "- runs smina to generate affinities (as DiffDock posed, or with smina minimization)\n",
        "- shows results in a py3DMol view\n",
        "\n",
        "colab by [@btnaughton](https://twitter.com/btnaughton)"
      ]
    },
    {
      "cell_type": "code",
      "execution_count": 17,
      "metadata": {
        "id": "M4xQfLgqWQsZ",
        "colab": {
          "base_uri": "https://localhost:8080/"
        },
        "outputId": "767c5bcf-190f-4697-9a14-a697eedbf42f"
      },
      "outputs": [
        {
          "output_type": "stream",
          "name": "stdout",
          "text": [
            "time: 469 µs (started: 2022-12-20 10:00:20 +00:00)\n"
          ]
        }
      ],
      "source": [
        "#@title PDB + SMILES input\n",
        "\n",
        "PDB_id = '6ej2' #@param {type:\"string\"}\n",
        "SMILES_or_pubchem_id = 'CCCCNC(=O)[C@H](C)C[C@H](O)[C@@H]2C[C@H](C)CCCCCN(CC)C(=O)c1cc(cc(c1)C(=O)N2)OCC' #@param {type:\"string\"}\n",
        "\n",
        "#@markdown Download a tar file containing all results?\n",
        "download_results = True #@param {type:\"boolean\"}"
      ]
    },
    {
      "cell_type": "code",
      "execution_count": 18,
      "metadata": {
        "id": "2Ssuid52VT-i",
        "colab": {
          "base_uri": "https://localhost:8080/"
        },
        "outputId": "a74c34b4-08ff-47ff-de48-60660d6f4ec5"
      },
      "outputs": [
        {
          "output_type": "stream",
          "name": "stdout",
          "text": [
            "time: 2.5 ms (started: 2022-12-20 10:00:20 +00:00)\n"
          ]
        }
      ],
      "source": [
        "import os\n",
        "import requests\n",
        "import time\n",
        "from random import random\n",
        "\n",
        "def download_pdb_file(pdb_id: str) -> str:\n",
        "    \"\"\"Download pdb file as a string from rcsb.org\"\"\"\n",
        "    PDB_DIR =\"/tmp/pdb/\"\n",
        "    os.makedirs(PDB_DIR, exist_ok=True)\n",
        "\n",
        "    # url or pdb_id\n",
        "    if pdb_id.startswith('http'):\n",
        "        url = pdb_id\n",
        "        filename = url.split('/')[-1]\n",
        "    elif pdb_id.endswith(\".pdb\"):\n",
        "        return pdb_id\n",
        "    else:\n",
        "        if pdb_id.startswith(\"AF\"):\n",
        "            url = f\"https://alphafold.ebi.ac.uk/files/{pdb_id}-model_v3.pdb\"\n",
        "        else:\n",
        "            url = f\"http://files.rcsb.org/view/{pdb_id}.pdb\"\n",
        "        filename = f'{pdb_id}.pdb'\n",
        "\n",
        "    cache_path = os.path.join(PDB_DIR, filename)\n",
        "    if os.path.exists(cache_path):\n",
        "        return cache_path\n",
        "\n",
        "    pdb_req = requests.get(url)\n",
        "    pdb_req.raise_for_status()\n",
        "    open(cache_path, 'w').write(pdb_req.text)\n",
        "    return cache_path\n",
        "\n",
        "def download_smiles_str(pubchem_id: str, retries:int = 2) -> str:\n",
        "    \"\"\"Given a pubchem id, get a smiles string\"\"\"\n",
        "    while True:\n",
        "        req = requests.get(f\"https://pubchem.ncbi.nlm.nih.gov/rest/pug/compound/CID/{pubchem_id}/property/CanonicalSMILES/CSV\")\n",
        "        smiles_url_csv = req.text if req.status_code == 200 else None\n",
        "        if smiles_url_csv is not None:\n",
        "            break\n",
        "        if retries == 0:\n",
        "            return None\n",
        "        time.sleep(1+random())\n",
        "        retries -= 1\n",
        "\n",
        "    return smiles_url_csv.splitlines()[1].split(',')[1].strip('\"').strip(\"'\") if smiles_url_csv is not None else None"
      ]
    },
    {
      "cell_type": "code",
      "execution_count": 4,
      "metadata": {
        "id": "BYTBennzXxb1"
      },
      "outputs": [],
      "source": [
        "if not PDB_id or not SMILES_or_pubchem_id:\n",
        "    PDB_id = \"6agt\"\n",
        "    SMILES_or_pubchem_id = \"COc(cc1)ccc1C#N\"\n",
        "    print(f\"No input supplied. Using example data: {PDB_id} and {SMILES_or_pubchem_id}\")\n",
        "\n",
        "# to run many PDB+smiles at once, fill in a list of PDB_files and smiles here...\n",
        "pdb_files = [download_pdb_file(_PDB_id) for _PDB_id in PDB_id.split(\",\")]\n",
        "smiless = [download_smiles_str(_SMILES_or_pubchem_id) if str(_SMILES_or_pubchem_id).isnumeric() else _SMILES_or_pubchem_id\n",
        "           for _SMILES_or_pubchem_id in SMILES_or_pubchem_id.split(',') ]\n",
        "\n",
        "with open(\"/tmp/input_protein_ligand.csv\", 'w') as out:\n",
        "    out.write(\"protein_path,ligand\\n\")\n",
        "    for pdb_file in pdb_files:\n",
        "        for smiles in smiless:\n",
        "            out.write(f\"{pdb_file},{smiles}\\n\")"
      ]
    },
    {
      "cell_type": "markdown",
      "metadata": {
        "id": "pcEcmE0fu-BE"
      },
      "source": [
        "## Importing protein-ligand pairs for affinity ranking"
      ]
    },
    {
      "cell_type": "code",
      "execution_count": 5,
      "metadata": {
        "colab": {
          "base_uri": "https://localhost:8080/"
        },
        "id": "cMV4qfvAR2lx",
        "outputId": "28ef5884-956b-468e-aefd-0178f8a934c4"
      },
      "outputs": [
        {
          "output_type": "stream",
          "name": "stdout",
          "text": [
            "/\n",
            "fatal: destination path 'sirt3' already exists and is not an empty directory.\n",
            "/sirt3\n",
            "Already up to date.\n",
            "/sirt3/lib/diffdock\n",
            "/sirt3/lib/diffdock\n"
          ]
        }
      ],
      "source": [
        "%cd /\n",
        "!git clone https://github.com/labdao/sirt3.git\n",
        "%cd /sirt3\n",
        "!git pull\n",
        "!git submodule init\n",
        "!git submodule update\n",
        "%cd /sirt3/lib/diffdock\n",
        "!git submodule init\n",
        "!git submodule update\n",
        "!pwd"
      ]
    },
    {
      "cell_type": "code",
      "execution_count": 6,
      "metadata": {
        "colab": {
          "base_uri": "https://localhost:8080/",
          "height": 424
        },
        "id": "n2jzaD-tvUpp",
        "outputId": "f67ab72c-de08-463c-d167-047fcdffdb54"
      },
      "outputs": [
        {
          "output_type": "execute_result",
          "data": {
            "text/plain": [
              "          protein_path                                             ligand\n",
              "0    /tmp/pdb/6ej2.pdb  CCCCNC(=O)[C@H](C)C[C@H](O)[C@@H]2C[C@H](C)CCC...\n",
              "1    /tmp/pdb/6ej2.pdb  C[C@@H]1CCCCCCOCC(=O)N(C)[C@@H](C)C(=O)N[C@@H]...\n",
              "2    /tmp/pdb/6ej2.pdb  CCCC2=CC(CNC[C@@H](O)[C@@H]1C[C@H](C)CCCCCCOCC...\n",
              "3    /tmp/pdb/6ej2.pdb  CCN2CCCCC[C@@H](C)C[C@H](NC(=O)c1cc(ccc1)C2=O)...\n",
              "4    /tmp/pdb/6ej2.pdb  CC(C)c5cc(CNC[C@@H](O)[C@@H]4C[C@H](C)CCCCCN([...\n",
              "..                 ...                                                ...\n",
              "149  /tmp/pdb/6ej2.pdb  CCCCNC(=O)[C@H](C)C[C@H](O)[C@@H]2Cc3cc(CCCCCN...\n",
              "150  /tmp/pdb/6ej2.pdb  CCCCNC(=O)[C@H](C)C[C@H](O)[C@@H]2Cc3cccc(CCCC...\n",
              "151  /tmp/pdb/6ej2.pdb  CCCCNC(=O)[C@H](C)C[C@H](O)[C@@H]2Cc1cccc(c1)O...\n",
              "152  /tmp/pdb/6ej2.pdb  CCCCNC(=O)[C@H](C)C[C@H](O)[C@@H]2Cc3cc(Cc1ccc...\n",
              "153  /tmp/pdb/6ej2.pdb  CCCCNC(=O)[C@H](C)C[C@H](O)[C@@H]2Cc3ccc(O)c(C...\n",
              "\n",
              "[154 rows x 2 columns]"
            ],
            "text/html": [
              "\n",
              "  <div id=\"df-47615ce8-180f-4b8c-b92f-f0e3456684ea\">\n",
              "    <div class=\"colab-df-container\">\n",
              "      <div>\n",
              "<style scoped>\n",
              "    .dataframe tbody tr th:only-of-type {\n",
              "        vertical-align: middle;\n",
              "    }\n",
              "\n",
              "    .dataframe tbody tr th {\n",
              "        vertical-align: top;\n",
              "    }\n",
              "\n",
              "    .dataframe thead th {\n",
              "        text-align: right;\n",
              "    }\n",
              "</style>\n",
              "<table border=\"1\" class=\"dataframe\">\n",
              "  <thead>\n",
              "    <tr style=\"text-align: right;\">\n",
              "      <th></th>\n",
              "      <th>protein_path</th>\n",
              "      <th>ligand</th>\n",
              "    </tr>\n",
              "  </thead>\n",
              "  <tbody>\n",
              "    <tr>\n",
              "      <th>0</th>\n",
              "      <td>/tmp/pdb/6ej2.pdb</td>\n",
              "      <td>CCCCNC(=O)[C@H](C)C[C@H](O)[C@@H]2C[C@H](C)CCC...</td>\n",
              "    </tr>\n",
              "    <tr>\n",
              "      <th>1</th>\n",
              "      <td>/tmp/pdb/6ej2.pdb</td>\n",
              "      <td>C[C@@H]1CCCCCCOCC(=O)N(C)[C@@H](C)C(=O)N[C@@H]...</td>\n",
              "    </tr>\n",
              "    <tr>\n",
              "      <th>2</th>\n",
              "      <td>/tmp/pdb/6ej2.pdb</td>\n",
              "      <td>CCCC2=CC(CNC[C@@H](O)[C@@H]1C[C@H](C)CCCCCCOCC...</td>\n",
              "    </tr>\n",
              "    <tr>\n",
              "      <th>3</th>\n",
              "      <td>/tmp/pdb/6ej2.pdb</td>\n",
              "      <td>CCN2CCCCC[C@@H](C)C[C@H](NC(=O)c1cc(ccc1)C2=O)...</td>\n",
              "    </tr>\n",
              "    <tr>\n",
              "      <th>4</th>\n",
              "      <td>/tmp/pdb/6ej2.pdb</td>\n",
              "      <td>CC(C)c5cc(CNC[C@@H](O)[C@@H]4C[C@H](C)CCCCCN([...</td>\n",
              "    </tr>\n",
              "    <tr>\n",
              "      <th>...</th>\n",
              "      <td>...</td>\n",
              "      <td>...</td>\n",
              "    </tr>\n",
              "    <tr>\n",
              "      <th>149</th>\n",
              "      <td>/tmp/pdb/6ej2.pdb</td>\n",
              "      <td>CCCCNC(=O)[C@H](C)C[C@H](O)[C@@H]2Cc3cc(CCCCCN...</td>\n",
              "    </tr>\n",
              "    <tr>\n",
              "      <th>150</th>\n",
              "      <td>/tmp/pdb/6ej2.pdb</td>\n",
              "      <td>CCCCNC(=O)[C@H](C)C[C@H](O)[C@@H]2Cc3cccc(CCCC...</td>\n",
              "    </tr>\n",
              "    <tr>\n",
              "      <th>151</th>\n",
              "      <td>/tmp/pdb/6ej2.pdb</td>\n",
              "      <td>CCCCNC(=O)[C@H](C)C[C@H](O)[C@@H]2Cc1cccc(c1)O...</td>\n",
              "    </tr>\n",
              "    <tr>\n",
              "      <th>152</th>\n",
              "      <td>/tmp/pdb/6ej2.pdb</td>\n",
              "      <td>CCCCNC(=O)[C@H](C)C[C@H](O)[C@@H]2Cc3cc(Cc1ccc...</td>\n",
              "    </tr>\n",
              "    <tr>\n",
              "      <th>153</th>\n",
              "      <td>/tmp/pdb/6ej2.pdb</td>\n",
              "      <td>CCCCNC(=O)[C@H](C)C[C@H](O)[C@@H]2Cc3ccc(O)c(C...</td>\n",
              "    </tr>\n",
              "  </tbody>\n",
              "</table>\n",
              "<p>154 rows × 2 columns</p>\n",
              "</div>\n",
              "      <button class=\"colab-df-convert\" onclick=\"convertToInteractive('df-47615ce8-180f-4b8c-b92f-f0e3456684ea')\"\n",
              "              title=\"Convert this dataframe to an interactive table.\"\n",
              "              style=\"display:none;\">\n",
              "        \n",
              "  <svg xmlns=\"http://www.w3.org/2000/svg\" height=\"24px\"viewBox=\"0 0 24 24\"\n",
              "       width=\"24px\">\n",
              "    <path d=\"M0 0h24v24H0V0z\" fill=\"none\"/>\n",
              "    <path d=\"M18.56 5.44l.94 2.06.94-2.06 2.06-.94-2.06-.94-.94-2.06-.94 2.06-2.06.94zm-11 1L8.5 8.5l.94-2.06 2.06-.94-2.06-.94L8.5 2.5l-.94 2.06-2.06.94zm10 10l.94 2.06.94-2.06 2.06-.94-2.06-.94-.94-2.06-.94 2.06-2.06.94z\"/><path d=\"M17.41 7.96l-1.37-1.37c-.4-.4-.92-.59-1.43-.59-.52 0-1.04.2-1.43.59L10.3 9.45l-7.72 7.72c-.78.78-.78 2.05 0 2.83L4 21.41c.39.39.9.59 1.41.59.51 0 1.02-.2 1.41-.59l7.78-7.78 2.81-2.81c.8-.78.8-2.07 0-2.86zM5.41 20L4 18.59l7.72-7.72 1.47 1.35L5.41 20z\"/>\n",
              "  </svg>\n",
              "      </button>\n",
              "      \n",
              "  <style>\n",
              "    .colab-df-container {\n",
              "      display:flex;\n",
              "      flex-wrap:wrap;\n",
              "      gap: 12px;\n",
              "    }\n",
              "\n",
              "    .colab-df-convert {\n",
              "      background-color: #E8F0FE;\n",
              "      border: none;\n",
              "      border-radius: 50%;\n",
              "      cursor: pointer;\n",
              "      display: none;\n",
              "      fill: #1967D2;\n",
              "      height: 32px;\n",
              "      padding: 0 0 0 0;\n",
              "      width: 32px;\n",
              "    }\n",
              "\n",
              "    .colab-df-convert:hover {\n",
              "      background-color: #E2EBFA;\n",
              "      box-shadow: 0px 1px 2px rgba(60, 64, 67, 0.3), 0px 1px 3px 1px rgba(60, 64, 67, 0.15);\n",
              "      fill: #174EA6;\n",
              "    }\n",
              "\n",
              "    [theme=dark] .colab-df-convert {\n",
              "      background-color: #3B4455;\n",
              "      fill: #D2E3FC;\n",
              "    }\n",
              "\n",
              "    [theme=dark] .colab-df-convert:hover {\n",
              "      background-color: #434B5C;\n",
              "      box-shadow: 0px 1px 3px 1px rgba(0, 0, 0, 0.15);\n",
              "      filter: drop-shadow(0px 1px 2px rgba(0, 0, 0, 0.3));\n",
              "      fill: #FFFFFF;\n",
              "    }\n",
              "  </style>\n",
              "\n",
              "      <script>\n",
              "        const buttonEl =\n",
              "          document.querySelector('#df-47615ce8-180f-4b8c-b92f-f0e3456684ea button.colab-df-convert');\n",
              "        buttonEl.style.display =\n",
              "          google.colab.kernel.accessAllowed ? 'block' : 'none';\n",
              "\n",
              "        async function convertToInteractive(key) {\n",
              "          const element = document.querySelector('#df-47615ce8-180f-4b8c-b92f-f0e3456684ea');\n",
              "          const dataTable =\n",
              "            await google.colab.kernel.invokeFunction('convertToInteractive',\n",
              "                                                     [key], {});\n",
              "          if (!dataTable) return;\n",
              "\n",
              "          const docLinkHtml = 'Like what you see? Visit the ' +\n",
              "            '<a target=\"_blank\" href=https://colab.research.google.com/notebooks/data_table.ipynb>data table notebook</a>'\n",
              "            + ' to learn more about interactive tables.';\n",
              "          element.innerHTML = '';\n",
              "          dataTable['output_type'] = 'display_data';\n",
              "          await google.colab.output.renderOutput(dataTable, element);\n",
              "          const docLink = document.createElement('div');\n",
              "          docLink.innerHTML = docLinkHtml;\n",
              "          element.appendChild(docLink);\n",
              "        }\n",
              "      </script>\n",
              "    </div>\n",
              "  </div>\n",
              "  "
            ]
          },
          "metadata": {},
          "execution_count": 6
        }
      ],
      "source": [
        "# processing the BACE1 reference set for local processing\n",
        "# TODO replace with complete counterscreen set\n",
        "import pandas as pd\n",
        "df = pd.read_csv(\"/sirt3/data/external/d3r_benchmark/BACE1/BACE_score_compounds_D3R_GC4_answers.csv\")\n",
        "df[\"protein_path\"] = \"/tmp/pdb/6ej2.pdb\"\n",
        "df[\"ligand\"] = df['SMILES']\n",
        "df = df[[\"protein_path\", \"ligand\"]]\n",
        "df.to_csv(\"/sirt3/data/processed/affinity_ranking/BACE1/input_protein_ligand.csv\")\n",
        "df"
      ]
    },
    {
      "cell_type": "code",
      "execution_count": 7,
      "metadata": {
        "id": "Ptul2hJM2HmA"
      },
      "outputs": [],
      "source": [
        "# clear out old results if running multiple times -- hopefully they have been downloaded already\n",
        "!rm -rf /content/DiffDock/results"
      ]
    },
    {
      "cell_type": "markdown",
      "metadata": {
        "id": "Dq9PwzHUWDlj"
      },
      "source": [
        "## Install prerequisites"
      ]
    },
    {
      "cell_type": "code",
      "execution_count": 8,
      "metadata": {
        "colab": {
          "base_uri": "https://localhost:8080/"
        },
        "id": "FSbikKk6fXAu",
        "outputId": "286c24cd-9907-4bfe-8490-fad2bc5bc38a"
      },
      "outputs": [
        {
          "output_type": "stream",
          "name": "stdout",
          "text": [
            "time: 407 µs (started: 2022-12-20 09:59:59 +00:00)\n"
          ]
        }
      ],
      "source": [
        "!pip install ipython-autotime --quiet\n",
        "%load_ext autotime"
      ]
    },
    {
      "cell_type": "code",
      "execution_count": 9,
      "metadata": {
        "colab": {
          "base_uri": "https://localhost:8080/"
        },
        "id": "hTQPGM8ptbRy",
        "outputId": "0737b08a-9152-4b00-d0ff-fd094ebafff7"
      },
      "outputs": [
        {
          "metadata": {
            "tags": null
          },
          "name": "stdout",
          "output_type": "stream",
          "text": [
            "time: 1.64 ms (started: 2022-12-20 09:59:59 +00:00)\n"
          ]
        }
      ],
      "source": [
        "#TODO clean this up and use the dependency in the SIRT3 project\n",
        "if not os.path.exists(\"/content/DiffDock\"):\n",
        "    %cd /content\n",
        "    !git clone https://github.com/gcorso/DiffDock.git\n",
        "    %cd /content/DiffDock\n",
        "    !git checkout a6c5275 # remove/update for more up to date code"
      ]
    },
    {
      "cell_type": "code",
      "execution_count": 10,
      "metadata": {
        "colab": {
          "base_uri": "https://localhost:8080/"
        },
        "id": "0vSCAwwrtdr8",
        "outputId": "cd601c76-100a-4ad6-d6de-10d710a76d83"
      },
      "outputs": [
        {
          "metadata": {
            "tags": null
          },
          "name": "stdout",
          "output_type": "stream",
          "text": [
            "time: 1 s (started: 2022-12-20 09:59:59 +00:00)\n"
          ]
        }
      ],
      "source": [
        "try:\n",
        "    import biopandas\n",
        "    import torch\n",
        "except:\n",
        "    !pip install pyg==0.7.1 --quiet\n",
        "    !pip install pyyaml==6.0 --quiet\n",
        "    !pip install scipy==1.7.3 --quiet\n",
        "    !pip install networkx==2.6.3 --quiet\n",
        "    !pip install biopython==1.79 --quiet\n",
        "    !pip install rdkit-pypi==2022.03.5 --quiet\n",
        "    !pip install e3nn==0.5.0 --quiet\n",
        "    !pip install spyrmsd==0.5.2 --quiet\n",
        "    !pip install pandas==1.3.5 --quiet\n",
        "    !pip install biopandas==0.4.1 --quiet\n",
        "    !pip install torch==1.12.1+cu113 --quiet"
      ]
    },
    {
      "cell_type": "code",
      "execution_count": 11,
      "metadata": {
        "colab": {
          "base_uri": "https://localhost:8080/"
        },
        "id": "_RZ9qNmHcLMX",
        "outputId": "fe825587-d4e2-490c-bfa4-4b0855c0140b"
      },
      "outputs": [
        {
          "metadata": {
            "tags": null
          },
          "name": "stdout",
          "output_type": "stream",
          "text": [
            "time: 1.34 s (started: 2022-12-20 10:00:00 +00:00)\n"
          ]
        }
      ],
      "source": [
        "import torch\n",
        "\n",
        "try:\n",
        "    import torch_geometric\n",
        "except ModuleNotFoundError:\n",
        "    !pip uninstall torch-scatter torch-sparse torch-geometric torch-cluster  --y\n",
        "    !pip install torch-scatter -f https://data.pyg.org/whl/torch-{torch.__version__}.html --quiet\n",
        "    !pip install torch-sparse -f https://data.pyg.org/whl/torch-{torch.__version__}.html --quiet\n",
        "    !pip install torch-cluster -f https://data.pyg.org/whl/torch-{torch.__version__}.html --quiet\n",
        "    !pip install git+https://github.com/pyg-team/pytorch_geometric.git  --quiet # no version for some reason??"
      ]
    },
    {
      "cell_type": "markdown",
      "metadata": {
        "id": "wpIBFqW7eNC7"
      },
      "source": [
        "## Install ESM and prepare PDB file for ESM"
      ]
    },
    {
      "cell_type": "code",
      "execution_count": 12,
      "metadata": {
        "colab": {
          "base_uri": "https://localhost:8080/"
        },
        "id": "2lduAr-WWPyX",
        "outputId": "52e5d8bc-c00c-418e-9a1d-672e9a188bcc"
      },
      "outputs": [
        {
          "metadata": {
            "tags": null
          },
          "name": "stdout",
          "output_type": "stream",
          "text": [
            "time: 2.73 ms (started: 2022-12-20 10:00:01 +00:00)\n"
          ]
        }
      ],
      "source": [
        "if not os.path.exists(\"/content/DiffDock/esm\"):\n",
        "    %cd /content/DiffDock\n",
        "    !git clone https://github.com/facebookresearch/esm\n",
        "    %cd /content/DiffDock/esm\n",
        "    !git checkout ca8a710 # remove/update for more up to date code\n",
        "    !sudo pip install -e .\n",
        "    %cd /content/DiffDock"
      ]
    },
    {
      "cell_type": "code",
      "execution_count": 13,
      "metadata": {
        "colab": {
          "base_uri": "https://localhost:8080/"
        },
        "id": "qbxUtRgHwoIx",
        "outputId": "2e234686-c51d-4276-c375-be0a33b35612"
      },
      "outputs": [
        {
          "metadata": {
            "tags": null
          },
          "name": "stdout",
          "output_type": "stream",
          "text": [
            "/content/DiffDock\n",
            "  0% 0/1 [00:00<?, ?it/s]/usr/local/lib/python3.8/dist-packages/Bio/PDB/PDBParser.py:395: PDBConstructionWarning: Ignoring unrecognized record 'END' at line 9575\n",
            "  warnings.warn(\n",
            "100% 1/1 [00:00<00:00,  9.90it/s]\n",
            "time: 720 ms (started: 2022-12-20 10:00:01 +00:00)\n"
          ]
        }
      ],
      "source": [
        "%cd /content/DiffDock\n",
        "!python datasets/esm_embedding_preparation.py --protein_ligand_csv /sirt3/data/processed/affinity_ranking/SIRT3/input_protein_ligand.csv --out_file /sirt3/data/processed/affinity_ranking/SIRT3/prepared_for_esm.fasta "
      ]
    },
    {
      "cell_type": "code",
      "execution_count": 14,
      "metadata": {
        "colab": {
          "base_uri": "https://localhost:8080/"
        },
        "id": "cKUU2PKDxTkX",
        "outputId": "47d45b95-a66f-459c-9013-fdf2022208d2"
      },
      "outputs": [
        {
          "output_type": "stream",
          "name": "stdout",
          "text": [
            "/content/DiffDock\n",
            "env: HOME=esm/model_weights\n",
            "env: PYTHONPATH=$PYTHONPATH:/content/DiffDock/esm\n",
            "Transferred model to GPU\n",
            "Read /sirt3/data/processed/affinity_ranking/SIRT3/prepared_for_esm.fasta with 1 sequences\n",
            "Processing 1 of 1 batches (1 sequences)\n",
            "time: 12.8 s (started: 2022-12-20 10:00:02 +00:00)\n"
          ]
        }
      ],
      "source": [
        "%cd /content/DiffDock\n",
        "%env HOME=esm/model_weights\n",
        "%env PYTHONPATH=$PYTHONPATH:/content/DiffDock/esm\n",
        "!python /content/DiffDock/esm/scripts/extract.py esm2_t33_650M_UR50D /sirt3/data/processed/affinity_ranking/SIRT3/prepared_for_esm.fasta /sirt3/data/processed/affinity_ranking/SIRT3/esm2_output --repr_layers 33 --include per_tok --truncation_seq_length 30000"
      ]
    },
    {
      "cell_type": "markdown",
      "metadata": {
        "id": "7bJTXj5SeYzG"
      },
      "source": [
        "## Run DiffDock"
      ]
    },
    {
      "cell_type": "code",
      "execution_count": null,
      "metadata": {
        "colab": {
          "base_uri": "https://localhost:8080/"
        },
        "id": "_D5gqUcabTAg",
        "outputId": "1fe608fb-2807-472f-ca3d-20bd7ff8c789"
      },
      "outputs": [
        {
          "output_type": "stream",
          "name": "stdout",
          "text": [
            "/content/DiffDock\n",
            "loading data from memory:  data/cache_torsion/limit0_INDEX_maxLigSizeNone_H0_recRad15.0_recMax24_esmEmbeddings3726022286/heterographs.pkl\n",
            "Number of complexes:  5\n",
            "radius protein: mean 33.31239700317383, std 0.0, max 33.31239700317383\n",
            "radius molecule: mean 6.990541934967041, std 1.4424554109573364, max 8.843311309814453\n",
            "distance protein-mol: mean 15.001182556152344, std 0.3628827929496765, max 15.470667839050293\n",
            "rmsd matching: mean 0.0, std 0.0, max 0\n",
            "HAPPENING | confidence model uses different type of graphs than the score model. Loading (or creating if not existing) the data for the confidence model now.\n",
            "loading data from memory:  data/cache_torsion_allatoms/limit0_INDEX_maxLigSizeNone_H0_recRad15.0_recMax24_atomRad5_atomMax8_esmEmbeddings3726022286/heterographs.pkl\n",
            "Number of complexes:  5\n",
            "radius protein: mean 33.31239700317383, std 0.0, max 33.31239700317383\n",
            "radius molecule: mean 6.806105613708496, std 1.148208498954773, max 8.611339569091797\n",
            "distance protein-mol: mean 14.649625778198242, std 0.3916947543621063, max 15.218027114868164\n",
            "rmsd matching: mean 0.0, std 0.0, max 0\n",
            "/usr/local/lib/python3.8/dist-packages/torch/jit/_check.py:181: UserWarning: The TorchScript type system doesn't support instance-level annotations on empty non-base types in `__init__`. Instead, either 1) use a type annotation in the class body, or 2) wrap the type in `torch.jit.Attribute`.\n",
            "  warnings.warn(\"The TorchScript type system doesn't support \"\n",
            "common t schedule [1.   0.95 0.9  0.85 0.8  0.75 0.7  0.65 0.6  0.55 0.5  0.45 0.4  0.35\n",
            " 0.3  0.25 0.2  0.15 0.1  0.05]\n",
            "Size of test dataset:  5\n",
            "3it [02:20, 43.63s/it]"
          ]
        }
      ],
      "source": [
        "%cd /content/DiffDock\n",
        "!python -m inference --protein_ligand_csv /sirt3/data/processed/affinity_ranking/SIRT3/input_protein_ligand.csv --esm_embeddings_path /sirt3/data/processed/affinity_ranking/SIRT3/esm2_output --out_dir results/user_predictions_small --inference_steps 20 --samples_per_complex 40 --batch_size 48"
      ]
    },
    {
      "cell_type": "markdown",
      "metadata": {
        "id": "zlPOKLIBsiPU"
      },
      "source": [
        "# Post-process and download results"
      ]
    },
    {
      "cell_type": "code",
      "execution_count": null,
      "metadata": {
        "id": "VqWHbQdeXbe0"
      },
      "outputs": [],
      "source": [
        "%cd /content/DiffDock\n",
        "!wget https://sourceforge.net/projects/smina/files/smina.static/download -O smina && chmod +x smina"
      ]
    },
    {
      "cell_type": "code",
      "execution_count": 25,
      "metadata": {
        "colab": {
          "base_uri": "https://localhost:8080/",
          "height": 485,
          "referenced_widgets": [
            "8fcdac8661c946608f1ece6c924ea1ae",
            "982305d4065d40c98f1378b5662f4423",
            "b1a00a5f89234274bf29de9ef0e732d9",
            "0e8bb38124a643829f0236730487b293",
            "ed5259b9f1bf468da9f2588a8f416e1c",
            "62cdce5ec0aa48ccad264083f229b792",
            "028a0906dba44ad0b8790e7111b4eb5f",
            "78bf490a7f8146e4946dc1e741de000a",
            "6c4a2e34767f46a1b16492307bee1f06",
            "54b77b2bcd2744d3978d127fe8806d69",
            "c6012bce12b9497884409fba5c9e0a79",
            "d8d9b5478676432a9714af0aca515a39",
            "73c370755ef547769d96db9a9dc46939",
            "4768ba6e7d5742b0b16e4a9c073125ef",
            "cf4a95748846485a9b2f542d39ab8277",
            "99637be4e2404be699f2ecb73e4476e3",
            "d6cf2123bf98462fb0ad0c32ac61e97f",
            "e8654b7274fe4886aecb3bc8e1ea6520",
            "b7817bbdc13e4fd28e59589284775e81",
            "90d20154e1fe454cbc873f0fc77a59df",
            "9ada09e8d641495c8a564a9d5155e135",
            "e522c2347aa24eec95109da42662338a"
          ]
        },
        "id": "XpjCe9IWjz5M",
        "outputId": "ac7d2b2b-0587-48dc-937b-f01b39dc0388"
      },
      "outputs": [
        {
          "output_type": "stream",
          "name": "stdout",
          "text": [
            "/sirt3/data/processed/affinity_ranking/SIRT3\n"
          ]
        },
        {
          "output_type": "display_data",
          "data": {
            "text/plain": [
              "runs:   0%|          | 0/5 [00:00<?, ?it/s]"
            ],
            "application/vnd.jupyter.widget-view+json": {
              "version_major": 2,
              "version_minor": 0,
              "model_id": "8fcdac8661c946608f1ece6c924ea1ae"
            }
          },
          "metadata": {}
        },
        {
          "output_type": "stream",
          "name": "stdout",
          "text": [
            "/bin/bash: /sirt3/data/interim/sirt3_protein./index4_-sirt3-data-interim-sirt3_protein-4bn4_protein_stripped_no_ions.pdb_nohet.pdb: No such file or directory\n",
            "cp: cannot stat '/sirt3/data/interim/sirt3_protein./index4_-sirt3-data-interim-sirt3_protein-4bn4_protein_stripped_no_ions.pdb': No such file or directory\n"
          ]
        },
        {
          "output_type": "display_data",
          "data": {
            "text/plain": [
              "files:   0%|          | 0/40 [00:00<?, ?it/s]"
            ],
            "application/vnd.jupyter.widget-view+json": {
              "version_major": 2,
              "version_minor": 0,
              "model_id": "d8d9b5478676432a9714af0aca515a39"
            }
          },
          "metadata": {}
        },
        {
          "output_type": "error",
          "ename": "IndexError",
          "evalue": "ignored",
          "traceback": [
            "\u001b[0;31m---------------------------------------------------------------------------\u001b[0m",
            "\u001b[0;31mIndexError\u001b[0m                                Traceback (most recent call last)",
            "\u001b[0;32m<ipython-input-25-af49215e17e2>\u001b[0m in \u001b[0;36m<module>\u001b[0;34m\u001b[0m\n\u001b[1;32m     24\u001b[0m \u001b[0;34m\u001b[0m\u001b[0m\n\u001b[1;32m     25\u001b[0m         \u001b[0mscored_stdout\u001b[0m \u001b[0;34m=\u001b[0m \u001b[0mget_ipython\u001b[0m\u001b[0;34m(\u001b[0m\u001b[0;34m)\u001b[0m\u001b[0;34m.\u001b[0m\u001b[0mgetoutput\u001b[0m\u001b[0;34m(\u001b[0m\u001b[0;34m'/content/DiffDock/smina --score_only -r \"{results_pdb_file_no_hetatms}\" -l \"{results_sdf}\"'\u001b[0m\u001b[0;34m)\u001b[0m\u001b[0;34m\u001b[0m\u001b[0;34m\u001b[0m\u001b[0m\n\u001b[0;32m---> 26\u001b[0;31m         \u001b[0mscored_affinity\u001b[0m \u001b[0;34m=\u001b[0m \u001b[0mre\u001b[0m\u001b[0;34m.\u001b[0m\u001b[0mfindall\u001b[0m\u001b[0;34m(\u001b[0m\u001b[0;34m\"Affinity:\\s*([\\-\\.\\d+]+)\"\u001b[0m\u001b[0;34m,\u001b[0m \u001b[0;34m'\\n'\u001b[0m\u001b[0;34m.\u001b[0m\u001b[0mjoin\u001b[0m\u001b[0;34m(\u001b[0m\u001b[0mscored_stdout\u001b[0m\u001b[0;34m)\u001b[0m\u001b[0;34m)\u001b[0m\u001b[0;34m[\u001b[0m\u001b[0;36m0\u001b[0m\u001b[0;34m]\u001b[0m\u001b[0;34m\u001b[0m\u001b[0;34m\u001b[0m\u001b[0m\n\u001b[0m\u001b[1;32m     27\u001b[0m         \u001b[0mminimized_stdout\u001b[0m \u001b[0;34m=\u001b[0m \u001b[0mget_ipython\u001b[0m\u001b[0;34m(\u001b[0m\u001b[0;34m)\u001b[0m\u001b[0;34m.\u001b[0m\u001b[0mgetoutput\u001b[0m\u001b[0;34m(\u001b[0m\u001b[0;34m'/content/DiffDock/smina --local_only --minimize -r \"{results_pdb_file_no_hetatms}\" -l \"{results_sdf}\" --autobox_ligand \"{results_sdf}\" --autobox_add 2'\u001b[0m\u001b[0;34m)\u001b[0m\u001b[0;34m\u001b[0m\u001b[0;34m\u001b[0m\u001b[0m\n\u001b[1;32m     28\u001b[0m         \u001b[0mminimized_affinity\u001b[0m \u001b[0;34m=\u001b[0m \u001b[0mre\u001b[0m\u001b[0;34m.\u001b[0m\u001b[0mfindall\u001b[0m\u001b[0;34m(\u001b[0m\u001b[0;34m\"Affinity:\\s*([\\-\\.\\d+]+)\"\u001b[0m\u001b[0;34m,\u001b[0m \u001b[0;34m'\\n'\u001b[0m\u001b[0;34m.\u001b[0m\u001b[0mjoin\u001b[0m\u001b[0;34m(\u001b[0m\u001b[0mminimized_stdout\u001b[0m\u001b[0;34m)\u001b[0m\u001b[0;34m)\u001b[0m\u001b[0;34m[\u001b[0m\u001b[0;36m0\u001b[0m\u001b[0;34m]\u001b[0m\u001b[0;34m\u001b[0m\u001b[0;34m\u001b[0m\u001b[0m\n",
            "\u001b[0;31mIndexError\u001b[0m: list index out of range"
          ]
        },
        {
          "output_type": "stream",
          "name": "stdout",
          "text": [
            "time: 417 ms (started: 2022-12-20 10:08:44 +00:00)\n"
          ]
        }
      ],
      "source": [
        "import re\n",
        "import pandas as pd\n",
        "from glob import glob\n",
        "from shlex import quote\n",
        "from datetime import datetime\n",
        "from tqdm.auto import tqdm\n",
        "from google.colab import files\n",
        "\n",
        "%cd /content/DiffDock/results/user_predictions_small\n",
        "results_dirs = glob(\"./index*\")\n",
        "\n",
        "rows = []\n",
        "for results_dir in tqdm(results_dirs, desc=\"runs\"):\n",
        "    results_pdb_file = \"/tmp/pdb/\" + re.findall(\"tmp-pdb-(.+\\.pdb)\", results_dir)[0]\n",
        "    results_smiles = re.findall(\"pdb_+(.+)\", results_dir)[0]\n",
        "    results_sdfs = [os.path.join(results_dir, f) for f in os.listdir(results_dir) if \"confidence\" in f and f.endswith(\".sdf\")]\n",
        "\n",
        "    results_pdb_file_no_hetatms = f\"{results_pdb_file}_nohet.pdb\"\n",
        "    !grep -v \"^HETATM\" {results_pdb_file} > {results_pdb_file_no_hetatms}\n",
        "    !cp {results_pdb_file} .\n",
        "\n",
        "    for results_sdf in tqdm(results_sdfs, leave=False, desc=\"files\"):\n",
        "        confidence = re.findall(\"confidence([\\-\\.\\d]+)\\.sdf\", results_sdf)[0]\n",
        "\n",
        "        scored_stdout = !/content/DiffDock/smina --score_only -r \"{results_pdb_file_no_hetatms}\" -l \"{results_sdf}\"\n",
        "        scored_affinity = re.findall(\"Affinity:\\s*([\\-\\.\\d+]+)\", '\\n'.join(scored_stdout))[0]\n",
        "        minimized_stdout = !/content/DiffDock/smina --local_only --minimize -r \"{results_pdb_file_no_hetatms}\" -l \"{results_sdf}\" --autobox_ligand \"{results_sdf}\" --autobox_add 2\n",
        "        minimized_affinity = re.findall(\"Affinity:\\s*([\\-\\.\\d+]+)\", '\\n'.join(minimized_stdout))[0]\n",
        "\n",
        "        rows.append((results_pdb_file.split('/')[-1], results_smiles, float(confidence), float(scored_affinity), float(minimized_affinity), results_sdf))\n",
        "\n",
        "#\n",
        "# create dataframe, tar file and download\n",
        "#\n",
        "df_results = pd.DataFrame(rows, columns=[\"pdb_file\", \"smiles\", \"diffdock_confidence\", \"smina_scored_affinity\", \"smina_minimized_affinity\", \"sdf_file\"])\n",
        "df_results_tsv = \"df_diffdock_results.tsv\"\n",
        "df_results.to_csv(df_results_tsv, sep='\\t', index=None)\n",
        "\n",
        "out_pdbs = ' '.join(set(df_results.pdb_file.apply(quote)))\n",
        "out_sdfs = ' '.join(df_results.sdf_file.apply(quote))\n",
        "\n",
        "if download_results:\n",
        "    tarname = f\"diffdock_{datetime.now().isoformat()[2:10].replace('-','')}\"\n",
        "    _ = !tar cvf {tarname}.tar --transform 's,^,{tarname}/,' --transform 's,\\./,,' {out_pdbs} {out_sdfs} {df_results_tsv}\n",
        "\n",
        "    files.download(f\"{tarname}.tar\")"
      ]
    },
    {
      "cell_type": "markdown",
      "metadata": {
        "id": "PIgH3MSt_dWx"
      },
      "source": [
        "## Compare smina affinities with DiffDock confidences"
      ]
    },
    {
      "cell_type": "code",
      "source": [
        "re.findall(\"pdb_+(.+)\", results_dir)[0]"
      ],
      "metadata": {
        "colab": {
          "base_uri": "https://localhost:8080/",
          "height": 53
        },
        "id": "3r-p0aH4AfVX",
        "outputId": "1a5ca453-3fe5-45b2-a3ee-366410d33b75"
      },
      "execution_count": 30,
      "outputs": [
        {
          "output_type": "execute_result",
          "data": {
            "text/plain": [
              "'[H][C@@]12CC[C@@](O)(C#C)[C@@]1(C)CC[C@]1([H])C3=C(CC[C@@]21[H])C=C(OC)C=C3'"
            ],
            "application/vnd.google.colaboratory.intrinsic+json": {
              "type": "string"
            }
          },
          "metadata": {},
          "execution_count": 30
        },
        {
          "output_type": "stream",
          "name": "stdout",
          "text": [
            "time: 3.38 ms (started: 2022-12-20 10:11:12 +00:00)\n"
          ]
        }
      ]
    },
    {
      "cell_type": "code",
      "execution_count": 19,
      "metadata": {
        "colab": {
          "base_uri": "https://localhost:8080/",
          "height": 35
        },
        "id": "uB3C-Bn0o9En",
        "outputId": "c2419b70-fc74-4d4b-fbf1-638a9e0dab20"
      },
      "outputs": [
        {
          "output_type": "display_data",
          "data": {
            "text/plain": [
              "<IPython.core.display.Javascript object>"
            ],
            "application/javascript": [
              "\n",
              "    async function download(id, filename, size) {\n",
              "      if (!google.colab.kernel.accessAllowed) {\n",
              "        return;\n",
              "      }\n",
              "      const div = document.createElement('div');\n",
              "      const label = document.createElement('label');\n",
              "      label.textContent = `Downloading \"${filename}\": `;\n",
              "      div.appendChild(label);\n",
              "      const progress = document.createElement('progress');\n",
              "      progress.max = size;\n",
              "      div.appendChild(progress);\n",
              "      document.body.appendChild(div);\n",
              "\n",
              "      const buffers = [];\n",
              "      let downloaded = 0;\n",
              "\n",
              "      const channel = await google.colab.kernel.comms.open(id);\n",
              "      // Send a message to notify the kernel that we're ready.\n",
              "      channel.send({})\n",
              "\n",
              "      for await (const message of channel.messages) {\n",
              "        // Send a message to notify the kernel that we're ready.\n",
              "        channel.send({})\n",
              "        if (message.buffers) {\n",
              "          for (const buffer of message.buffers) {\n",
              "            buffers.push(buffer);\n",
              "            downloaded += buffer.byteLength;\n",
              "            progress.value = downloaded;\n",
              "          }\n",
              "        }\n",
              "      }\n",
              "      const blob = new Blob(buffers, {type: 'application/binary'});\n",
              "      const a = document.createElement('a');\n",
              "      a.href = window.URL.createObjectURL(blob);\n",
              "      a.download = filename;\n",
              "      div.appendChild(a);\n",
              "      a.click();\n",
              "      div.remove();\n",
              "    }\n",
              "  "
            ]
          },
          "metadata": {}
        },
        {
          "output_type": "display_data",
          "data": {
            "text/plain": [
              "<IPython.core.display.Javascript object>"
            ],
            "application/javascript": [
              "download(\"download_edb66736-0e1f-4830-94d6-2de14043abd6\", \"diffdock_221220.tar\", 10240)"
            ]
          },
          "metadata": {}
        },
        {
          "output_type": "stream",
          "name": "stdout",
          "text": [
            "time: 130 ms (started: 2022-12-20 10:02:05 +00:00)\n"
          ]
        }
      ],
      "source": [
        "if download_results:\n",
        "    tarname = f\"diffdock_{datetime.now().isoformat()[2:10].replace('-','')}\"\n",
        "    _ = !tar cvf {tarname}.tar --transform 's,^,{tarname}/,' --transform 's,\\./,,' {out_pdbs} {out_sdfs} {df_results_tsv}\n",
        "\n",
        "    files.download(f\"{tarname}.tar\")"
      ]
    }
  ],
  "metadata": {
    "accelerator": "GPU",
    "colab": {
      "machine_shape": "hm",
      "provenance": [],
      "include_colab_link": true
    },
    "gpuClass": "premium",
    "kernelspec": {
      "display_name": "Python 3",
      "name": "python3"
    },
    "language_info": {
      "name": "python"
    },
    "widgets": {
      "application/vnd.jupyter.widget-state+json": {
        "8fcdac8661c946608f1ece6c924ea1ae": {
          "model_module": "@jupyter-widgets/controls",
          "model_name": "HBoxModel",
          "model_module_version": "1.5.0",
          "state": {
            "_dom_classes": [],
            "_model_module": "@jupyter-widgets/controls",
            "_model_module_version": "1.5.0",
            "_model_name": "HBoxModel",
            "_view_count": null,
            "_view_module": "@jupyter-widgets/controls",
            "_view_module_version": "1.5.0",
            "_view_name": "HBoxView",
            "box_style": "",
            "children": [
              "IPY_MODEL_982305d4065d40c98f1378b5662f4423",
              "IPY_MODEL_b1a00a5f89234274bf29de9ef0e732d9",
              "IPY_MODEL_0e8bb38124a643829f0236730487b293"
            ],
            "layout": "IPY_MODEL_ed5259b9f1bf468da9f2588a8f416e1c"
          }
        },
        "982305d4065d40c98f1378b5662f4423": {
          "model_module": "@jupyter-widgets/controls",
          "model_name": "HTMLModel",
          "model_module_version": "1.5.0",
          "state": {
            "_dom_classes": [],
            "_model_module": "@jupyter-widgets/controls",
            "_model_module_version": "1.5.0",
            "_model_name": "HTMLModel",
            "_view_count": null,
            "_view_module": "@jupyter-widgets/controls",
            "_view_module_version": "1.5.0",
            "_view_name": "HTMLView",
            "description": "",
            "description_tooltip": null,
            "layout": "IPY_MODEL_62cdce5ec0aa48ccad264083f229b792",
            "placeholder": "​",
            "style": "IPY_MODEL_028a0906dba44ad0b8790e7111b4eb5f",
            "value": "runs:   0%"
          }
        },
        "b1a00a5f89234274bf29de9ef0e732d9": {
          "model_module": "@jupyter-widgets/controls",
          "model_name": "FloatProgressModel",
          "model_module_version": "1.5.0",
          "state": {
            "_dom_classes": [],
            "_model_module": "@jupyter-widgets/controls",
            "_model_module_version": "1.5.0",
            "_model_name": "FloatProgressModel",
            "_view_count": null,
            "_view_module": "@jupyter-widgets/controls",
            "_view_module_version": "1.5.0",
            "_view_name": "ProgressView",
            "bar_style": "danger",
            "description": "",
            "description_tooltip": null,
            "layout": "IPY_MODEL_78bf490a7f8146e4946dc1e741de000a",
            "max": 5,
            "min": 0,
            "orientation": "horizontal",
            "style": "IPY_MODEL_6c4a2e34767f46a1b16492307bee1f06",
            "value": 0
          }
        },
        "0e8bb38124a643829f0236730487b293": {
          "model_module": "@jupyter-widgets/controls",
          "model_name": "HTMLModel",
          "model_module_version": "1.5.0",
          "state": {
            "_dom_classes": [],
            "_model_module": "@jupyter-widgets/controls",
            "_model_module_version": "1.5.0",
            "_model_name": "HTMLModel",
            "_view_count": null,
            "_view_module": "@jupyter-widgets/controls",
            "_view_module_version": "1.5.0",
            "_view_name": "HTMLView",
            "description": "",
            "description_tooltip": null,
            "layout": "IPY_MODEL_54b77b2bcd2744d3978d127fe8806d69",
            "placeholder": "​",
            "style": "IPY_MODEL_c6012bce12b9497884409fba5c9e0a79",
            "value": " 0/5 [00:00&lt;?, ?it/s]"
          }
        },
        "ed5259b9f1bf468da9f2588a8f416e1c": {
          "model_module": "@jupyter-widgets/base",
          "model_name": "LayoutModel",
          "model_module_version": "1.2.0",
          "state": {
            "_model_module": "@jupyter-widgets/base",
            "_model_module_version": "1.2.0",
            "_model_name": "LayoutModel",
            "_view_count": null,
            "_view_module": "@jupyter-widgets/base",
            "_view_module_version": "1.2.0",
            "_view_name": "LayoutView",
            "align_content": null,
            "align_items": null,
            "align_self": null,
            "border": null,
            "bottom": null,
            "display": null,
            "flex": null,
            "flex_flow": null,
            "grid_area": null,
            "grid_auto_columns": null,
            "grid_auto_flow": null,
            "grid_auto_rows": null,
            "grid_column": null,
            "grid_gap": null,
            "grid_row": null,
            "grid_template_areas": null,
            "grid_template_columns": null,
            "grid_template_rows": null,
            "height": null,
            "justify_content": null,
            "justify_items": null,
            "left": null,
            "margin": null,
            "max_height": null,
            "max_width": null,
            "min_height": null,
            "min_width": null,
            "object_fit": null,
            "object_position": null,
            "order": null,
            "overflow": null,
            "overflow_x": null,
            "overflow_y": null,
            "padding": null,
            "right": null,
            "top": null,
            "visibility": null,
            "width": null
          }
        },
        "62cdce5ec0aa48ccad264083f229b792": {
          "model_module": "@jupyter-widgets/base",
          "model_name": "LayoutModel",
          "model_module_version": "1.2.0",
          "state": {
            "_model_module": "@jupyter-widgets/base",
            "_model_module_version": "1.2.0",
            "_model_name": "LayoutModel",
            "_view_count": null,
            "_view_module": "@jupyter-widgets/base",
            "_view_module_version": "1.2.0",
            "_view_name": "LayoutView",
            "align_content": null,
            "align_items": null,
            "align_self": null,
            "border": null,
            "bottom": null,
            "display": null,
            "flex": null,
            "flex_flow": null,
            "grid_area": null,
            "grid_auto_columns": null,
            "grid_auto_flow": null,
            "grid_auto_rows": null,
            "grid_column": null,
            "grid_gap": null,
            "grid_row": null,
            "grid_template_areas": null,
            "grid_template_columns": null,
            "grid_template_rows": null,
            "height": null,
            "justify_content": null,
            "justify_items": null,
            "left": null,
            "margin": null,
            "max_height": null,
            "max_width": null,
            "min_height": null,
            "min_width": null,
            "object_fit": null,
            "object_position": null,
            "order": null,
            "overflow": null,
            "overflow_x": null,
            "overflow_y": null,
            "padding": null,
            "right": null,
            "top": null,
            "visibility": null,
            "width": null
          }
        },
        "028a0906dba44ad0b8790e7111b4eb5f": {
          "model_module": "@jupyter-widgets/controls",
          "model_name": "DescriptionStyleModel",
          "model_module_version": "1.5.0",
          "state": {
            "_model_module": "@jupyter-widgets/controls",
            "_model_module_version": "1.5.0",
            "_model_name": "DescriptionStyleModel",
            "_view_count": null,
            "_view_module": "@jupyter-widgets/base",
            "_view_module_version": "1.2.0",
            "_view_name": "StyleView",
            "description_width": ""
          }
        },
        "78bf490a7f8146e4946dc1e741de000a": {
          "model_module": "@jupyter-widgets/base",
          "model_name": "LayoutModel",
          "model_module_version": "1.2.0",
          "state": {
            "_model_module": "@jupyter-widgets/base",
            "_model_module_version": "1.2.0",
            "_model_name": "LayoutModel",
            "_view_count": null,
            "_view_module": "@jupyter-widgets/base",
            "_view_module_version": "1.2.0",
            "_view_name": "LayoutView",
            "align_content": null,
            "align_items": null,
            "align_self": null,
            "border": null,
            "bottom": null,
            "display": null,
            "flex": null,
            "flex_flow": null,
            "grid_area": null,
            "grid_auto_columns": null,
            "grid_auto_flow": null,
            "grid_auto_rows": null,
            "grid_column": null,
            "grid_gap": null,
            "grid_row": null,
            "grid_template_areas": null,
            "grid_template_columns": null,
            "grid_template_rows": null,
            "height": null,
            "justify_content": null,
            "justify_items": null,
            "left": null,
            "margin": null,
            "max_height": null,
            "max_width": null,
            "min_height": null,
            "min_width": null,
            "object_fit": null,
            "object_position": null,
            "order": null,
            "overflow": null,
            "overflow_x": null,
            "overflow_y": null,
            "padding": null,
            "right": null,
            "top": null,
            "visibility": null,
            "width": null
          }
        },
        "6c4a2e34767f46a1b16492307bee1f06": {
          "model_module": "@jupyter-widgets/controls",
          "model_name": "ProgressStyleModel",
          "model_module_version": "1.5.0",
          "state": {
            "_model_module": "@jupyter-widgets/controls",
            "_model_module_version": "1.5.0",
            "_model_name": "ProgressStyleModel",
            "_view_count": null,
            "_view_module": "@jupyter-widgets/base",
            "_view_module_version": "1.2.0",
            "_view_name": "StyleView",
            "bar_color": null,
            "description_width": ""
          }
        },
        "54b77b2bcd2744d3978d127fe8806d69": {
          "model_module": "@jupyter-widgets/base",
          "model_name": "LayoutModel",
          "model_module_version": "1.2.0",
          "state": {
            "_model_module": "@jupyter-widgets/base",
            "_model_module_version": "1.2.0",
            "_model_name": "LayoutModel",
            "_view_count": null,
            "_view_module": "@jupyter-widgets/base",
            "_view_module_version": "1.2.0",
            "_view_name": "LayoutView",
            "align_content": null,
            "align_items": null,
            "align_self": null,
            "border": null,
            "bottom": null,
            "display": null,
            "flex": null,
            "flex_flow": null,
            "grid_area": null,
            "grid_auto_columns": null,
            "grid_auto_flow": null,
            "grid_auto_rows": null,
            "grid_column": null,
            "grid_gap": null,
            "grid_row": null,
            "grid_template_areas": null,
            "grid_template_columns": null,
            "grid_template_rows": null,
            "height": null,
            "justify_content": null,
            "justify_items": null,
            "left": null,
            "margin": null,
            "max_height": null,
            "max_width": null,
            "min_height": null,
            "min_width": null,
            "object_fit": null,
            "object_position": null,
            "order": null,
            "overflow": null,
            "overflow_x": null,
            "overflow_y": null,
            "padding": null,
            "right": null,
            "top": null,
            "visibility": null,
            "width": null
          }
        },
        "c6012bce12b9497884409fba5c9e0a79": {
          "model_module": "@jupyter-widgets/controls",
          "model_name": "DescriptionStyleModel",
          "model_module_version": "1.5.0",
          "state": {
            "_model_module": "@jupyter-widgets/controls",
            "_model_module_version": "1.5.0",
            "_model_name": "DescriptionStyleModel",
            "_view_count": null,
            "_view_module": "@jupyter-widgets/base",
            "_view_module_version": "1.2.0",
            "_view_name": "StyleView",
            "description_width": ""
          }
        },
        "d8d9b5478676432a9714af0aca515a39": {
          "model_module": "@jupyter-widgets/controls",
          "model_name": "HBoxModel",
          "model_module_version": "1.5.0",
          "state": {
            "_dom_classes": [],
            "_model_module": "@jupyter-widgets/controls",
            "_model_module_version": "1.5.0",
            "_model_name": "HBoxModel",
            "_view_count": null,
            "_view_module": "@jupyter-widgets/controls",
            "_view_module_version": "1.5.0",
            "_view_name": "HBoxView",
            "box_style": "",
            "children": [
              "IPY_MODEL_73c370755ef547769d96db9a9dc46939",
              "IPY_MODEL_4768ba6e7d5742b0b16e4a9c073125ef",
              "IPY_MODEL_cf4a95748846485a9b2f542d39ab8277"
            ],
            "layout": "IPY_MODEL_99637be4e2404be699f2ecb73e4476e3"
          }
        },
        "73c370755ef547769d96db9a9dc46939": {
          "model_module": "@jupyter-widgets/controls",
          "model_name": "HTMLModel",
          "model_module_version": "1.5.0",
          "state": {
            "_dom_classes": [],
            "_model_module": "@jupyter-widgets/controls",
            "_model_module_version": "1.5.0",
            "_model_name": "HTMLModel",
            "_view_count": null,
            "_view_module": "@jupyter-widgets/controls",
            "_view_module_version": "1.5.0",
            "_view_name": "HTMLView",
            "description": "",
            "description_tooltip": null,
            "layout": "IPY_MODEL_d6cf2123bf98462fb0ad0c32ac61e97f",
            "placeholder": "​",
            "style": "IPY_MODEL_e8654b7274fe4886aecb3bc8e1ea6520",
            "value": "files:   0%"
          }
        },
        "4768ba6e7d5742b0b16e4a9c073125ef": {
          "model_module": "@jupyter-widgets/controls",
          "model_name": "FloatProgressModel",
          "model_module_version": "1.5.0",
          "state": {
            "_dom_classes": [],
            "_model_module": "@jupyter-widgets/controls",
            "_model_module_version": "1.5.0",
            "_model_name": "FloatProgressModel",
            "_view_count": null,
            "_view_module": "@jupyter-widgets/controls",
            "_view_module_version": "1.5.0",
            "_view_name": "ProgressView",
            "bar_style": "danger",
            "description": "",
            "description_tooltip": null,
            "layout": "IPY_MODEL_b7817bbdc13e4fd28e59589284775e81",
            "max": 40,
            "min": 0,
            "orientation": "horizontal",
            "style": "IPY_MODEL_90d20154e1fe454cbc873f0fc77a59df",
            "value": 0
          }
        },
        "cf4a95748846485a9b2f542d39ab8277": {
          "model_module": "@jupyter-widgets/controls",
          "model_name": "HTMLModel",
          "model_module_version": "1.5.0",
          "state": {
            "_dom_classes": [],
            "_model_module": "@jupyter-widgets/controls",
            "_model_module_version": "1.5.0",
            "_model_name": "HTMLModel",
            "_view_count": null,
            "_view_module": "@jupyter-widgets/controls",
            "_view_module_version": "1.5.0",
            "_view_name": "HTMLView",
            "description": "",
            "description_tooltip": null,
            "layout": "IPY_MODEL_9ada09e8d641495c8a564a9d5155e135",
            "placeholder": "​",
            "style": "IPY_MODEL_e522c2347aa24eec95109da42662338a",
            "value": " 0/40 [00:00&lt;?, ?it/s]"
          }
        },
        "99637be4e2404be699f2ecb73e4476e3": {
          "model_module": "@jupyter-widgets/base",
          "model_name": "LayoutModel",
          "model_module_version": "1.2.0",
          "state": {
            "_model_module": "@jupyter-widgets/base",
            "_model_module_version": "1.2.0",
            "_model_name": "LayoutModel",
            "_view_count": null,
            "_view_module": "@jupyter-widgets/base",
            "_view_module_version": "1.2.0",
            "_view_name": "LayoutView",
            "align_content": null,
            "align_items": null,
            "align_self": null,
            "border": null,
            "bottom": null,
            "display": null,
            "flex": null,
            "flex_flow": null,
            "grid_area": null,
            "grid_auto_columns": null,
            "grid_auto_flow": null,
            "grid_auto_rows": null,
            "grid_column": null,
            "grid_gap": null,
            "grid_row": null,
            "grid_template_areas": null,
            "grid_template_columns": null,
            "grid_template_rows": null,
            "height": null,
            "justify_content": null,
            "justify_items": null,
            "left": null,
            "margin": null,
            "max_height": null,
            "max_width": null,
            "min_height": null,
            "min_width": null,
            "object_fit": null,
            "object_position": null,
            "order": null,
            "overflow": null,
            "overflow_x": null,
            "overflow_y": null,
            "padding": null,
            "right": null,
            "top": null,
            "visibility": null,
            "width": null
          }
        },
        "d6cf2123bf98462fb0ad0c32ac61e97f": {
          "model_module": "@jupyter-widgets/base",
          "model_name": "LayoutModel",
          "model_module_version": "1.2.0",
          "state": {
            "_model_module": "@jupyter-widgets/base",
            "_model_module_version": "1.2.0",
            "_model_name": "LayoutModel",
            "_view_count": null,
            "_view_module": "@jupyter-widgets/base",
            "_view_module_version": "1.2.0",
            "_view_name": "LayoutView",
            "align_content": null,
            "align_items": null,
            "align_self": null,
            "border": null,
            "bottom": null,
            "display": null,
            "flex": null,
            "flex_flow": null,
            "grid_area": null,
            "grid_auto_columns": null,
            "grid_auto_flow": null,
            "grid_auto_rows": null,
            "grid_column": null,
            "grid_gap": null,
            "grid_row": null,
            "grid_template_areas": null,
            "grid_template_columns": null,
            "grid_template_rows": null,
            "height": null,
            "justify_content": null,
            "justify_items": null,
            "left": null,
            "margin": null,
            "max_height": null,
            "max_width": null,
            "min_height": null,
            "min_width": null,
            "object_fit": null,
            "object_position": null,
            "order": null,
            "overflow": null,
            "overflow_x": null,
            "overflow_y": null,
            "padding": null,
            "right": null,
            "top": null,
            "visibility": null,
            "width": null
          }
        },
        "e8654b7274fe4886aecb3bc8e1ea6520": {
          "model_module": "@jupyter-widgets/controls",
          "model_name": "DescriptionStyleModel",
          "model_module_version": "1.5.0",
          "state": {
            "_model_module": "@jupyter-widgets/controls",
            "_model_module_version": "1.5.0",
            "_model_name": "DescriptionStyleModel",
            "_view_count": null,
            "_view_module": "@jupyter-widgets/base",
            "_view_module_version": "1.2.0",
            "_view_name": "StyleView",
            "description_width": ""
          }
        },
        "b7817bbdc13e4fd28e59589284775e81": {
          "model_module": "@jupyter-widgets/base",
          "model_name": "LayoutModel",
          "model_module_version": "1.2.0",
          "state": {
            "_model_module": "@jupyter-widgets/base",
            "_model_module_version": "1.2.0",
            "_model_name": "LayoutModel",
            "_view_count": null,
            "_view_module": "@jupyter-widgets/base",
            "_view_module_version": "1.2.0",
            "_view_name": "LayoutView",
            "align_content": null,
            "align_items": null,
            "align_self": null,
            "border": null,
            "bottom": null,
            "display": null,
            "flex": null,
            "flex_flow": null,
            "grid_area": null,
            "grid_auto_columns": null,
            "grid_auto_flow": null,
            "grid_auto_rows": null,
            "grid_column": null,
            "grid_gap": null,
            "grid_row": null,
            "grid_template_areas": null,
            "grid_template_columns": null,
            "grid_template_rows": null,
            "height": null,
            "justify_content": null,
            "justify_items": null,
            "left": null,
            "margin": null,
            "max_height": null,
            "max_width": null,
            "min_height": null,
            "min_width": null,
            "object_fit": null,
            "object_position": null,
            "order": null,
            "overflow": null,
            "overflow_x": null,
            "overflow_y": null,
            "padding": null,
            "right": null,
            "top": null,
            "visibility": null,
            "width": null
          }
        },
        "90d20154e1fe454cbc873f0fc77a59df": {
          "model_module": "@jupyter-widgets/controls",
          "model_name": "ProgressStyleModel",
          "model_module_version": "1.5.0",
          "state": {
            "_model_module": "@jupyter-widgets/controls",
            "_model_module_version": "1.5.0",
            "_model_name": "ProgressStyleModel",
            "_view_count": null,
            "_view_module": "@jupyter-widgets/base",
            "_view_module_version": "1.2.0",
            "_view_name": "StyleView",
            "bar_color": null,
            "description_width": ""
          }
        },
        "9ada09e8d641495c8a564a9d5155e135": {
          "model_module": "@jupyter-widgets/base",
          "model_name": "LayoutModel",
          "model_module_version": "1.2.0",
          "state": {
            "_model_module": "@jupyter-widgets/base",
            "_model_module_version": "1.2.0",
            "_model_name": "LayoutModel",
            "_view_count": null,
            "_view_module": "@jupyter-widgets/base",
            "_view_module_version": "1.2.0",
            "_view_name": "LayoutView",
            "align_content": null,
            "align_items": null,
            "align_self": null,
            "border": null,
            "bottom": null,
            "display": null,
            "flex": null,
            "flex_flow": null,
            "grid_area": null,
            "grid_auto_columns": null,
            "grid_auto_flow": null,
            "grid_auto_rows": null,
            "grid_column": null,
            "grid_gap": null,
            "grid_row": null,
            "grid_template_areas": null,
            "grid_template_columns": null,
            "grid_template_rows": null,
            "height": null,
            "justify_content": null,
            "justify_items": null,
            "left": null,
            "margin": null,
            "max_height": null,
            "max_width": null,
            "min_height": null,
            "min_width": null,
            "object_fit": null,
            "object_position": null,
            "order": null,
            "overflow": null,
            "overflow_x": null,
            "overflow_y": null,
            "padding": null,
            "right": null,
            "top": null,
            "visibility": null,
            "width": null
          }
        },
        "e522c2347aa24eec95109da42662338a": {
          "model_module": "@jupyter-widgets/controls",
          "model_name": "DescriptionStyleModel",
          "model_module_version": "1.5.0",
          "state": {
            "_model_module": "@jupyter-widgets/controls",
            "_model_module_version": "1.5.0",
            "_model_name": "DescriptionStyleModel",
            "_view_count": null,
            "_view_module": "@jupyter-widgets/base",
            "_view_module_version": "1.2.0",
            "_view_name": "StyleView",
            "description_width": ""
          }
        }
      }
    }
  },
  "nbformat": 4,
  "nbformat_minor": 0
}